{
 "cells": [
  {
   "cell_type": "markdown",
   "metadata": {},
   "source": [
    "# RNN"
   ]
  },
  {
   "cell_type": "code",
   "execution_count": 1,
   "metadata": {},
   "outputs": [],
   "source": [
    "import numpy as np\n",
    "import pandas as pd\n",
    "import matplotlib.pyplot as plt\n",
    "import seaborn as sns\n",
    "from nltk.corpus import stopwords\n",
    "from konlpy.tag import Okt"
   ]
  },
  {
   "cell_type": "markdown",
   "metadata": {},
   "source": [
    "## Load Data"
   ]
  },
  {
   "cell_type": "code",
   "execution_count": 2,
   "metadata": {},
   "outputs": [
    {
     "name": "stdout",
     "output_type": "stream",
     "text": [
      "(25000, 3)\n"
     ]
    },
    {
     "data": {
      "text/html": [
       "<div>\n",
       "<style scoped>\n",
       "    .dataframe tbody tr th:only-of-type {\n",
       "        vertical-align: middle;\n",
       "    }\n",
       "\n",
       "    .dataframe tbody tr th {\n",
       "        vertical-align: top;\n",
       "    }\n",
       "\n",
       "    .dataframe thead th {\n",
       "        text-align: right;\n",
       "    }\n",
       "</style>\n",
       "<table border=\"1\" class=\"dataframe\">\n",
       "  <thead>\n",
       "    <tr style=\"text-align: right;\">\n",
       "      <th></th>\n",
       "      <th>id</th>\n",
       "      <th>reviews</th>\n",
       "      <th>target</th>\n",
       "    </tr>\n",
       "  </thead>\n",
       "  <tbody>\n",
       "    <tr>\n",
       "      <th>0</th>\n",
       "      <td>0</td>\n",
       "      <td>조아요 처음구입 싸게햇어요</td>\n",
       "      <td>2</td>\n",
       "    </tr>\n",
       "    <tr>\n",
       "      <th>1</th>\n",
       "      <td>1</td>\n",
       "      <td>생각보다 잘 안돼요 매지 바른지 하루밖에 안됐는데ㅠㅠ 25천원가량 주고 사기 너무 ...</td>\n",
       "      <td>1</td>\n",
       "    </tr>\n",
       "    <tr>\n",
       "      <th>2</th>\n",
       "      <td>2</td>\n",
       "      <td>디자인은괜찮은데 상품이 금이가서 교환했는데 두번째받은상품도 까져있고 안쪽에 금이가져...</td>\n",
       "      <td>2</td>\n",
       "    </tr>\n",
       "    <tr>\n",
       "      <th>3</th>\n",
       "      <td>3</td>\n",
       "      <td>기전에 이 제품말고 이마트 트레이더스에서만 팔던 프리미엄 제품을 사용했었습니다. 샘...</td>\n",
       "      <td>2</td>\n",
       "    </tr>\n",
       "    <tr>\n",
       "      <th>4</th>\n",
       "      <td>4</td>\n",
       "      <td>튼튼하고 손목을 잘 받쳐주네요~</td>\n",
       "      <td>5</td>\n",
       "    </tr>\n",
       "  </tbody>\n",
       "</table>\n",
       "</div>"
      ],
      "text/plain": [
       "   id                                            reviews  target\n",
       "0   0                                     조아요 처음구입 싸게햇어요       2\n",
       "1   1  생각보다 잘 안돼요 매지 바른지 하루밖에 안됐는데ㅠㅠ 25천원가량 주고 사기 너무 ...       1\n",
       "2   2  디자인은괜찮은데 상품이 금이가서 교환했는데 두번째받은상품도 까져있고 안쪽에 금이가져...       2\n",
       "3   3  기전에 이 제품말고 이마트 트레이더스에서만 팔던 프리미엄 제품을 사용했었습니다. 샘...       2\n",
       "4   4                                  튼튼하고 손목을 잘 받쳐주네요~       5"
      ]
     },
     "execution_count": 2,
     "metadata": {},
     "output_type": "execute_result"
    }
   ],
   "source": [
    "train = pd.read_csv('data/train.csv')\n",
    "test = pd.read_csv('data/test.csv')\n",
    "print(train.shape)\n",
    "train.head()"
   ]
  },
  {
   "cell_type": "markdown",
   "metadata": {},
   "source": [
    "## Preprocess Data"
   ]
  },
  {
   "cell_type": "code",
   "execution_count": 3,
   "metadata": {},
   "outputs": [
    {
     "name": "stdout",
     "output_type": "stream",
     "text": [
      "Train Sample: ['좋다', '처음', '구입', '싸다', '햇', '요']\n",
      "Test Sample: ['채소', '시들다']\n"
     ]
    }
   ],
   "source": [
    "okt = Okt()\n",
    "stop_words = stopwords.words('korean')\n",
    "train_data = list()\n",
    "train_label = train.target.tolist()\n",
    "test_data = list()\n",
    "\n",
    "for review in train['reviews'].tolist():\n",
    "    tokenized = okt.morphs(review, stem=True)\n",
    "    tokenized = [word for word in tokenized if word not in stop_words]\n",
    "    train_data.append(tokenized)\n",
    "for review in test['reviews'].tolist():\n",
    "    tokenized = okt.morphs(review, stem=True)\n",
    "    tokenized = [word for word in tokenized if word not in stop_words]\n",
    "    test_data.append(tokenized)\n",
    "\n",
    "print('Train Sample:', train_data[0])\n",
    "print('Test Sample:', test_data[0])"
   ]
  },
  {
   "cell_type": "code",
   "execution_count": 4,
   "metadata": {},
   "outputs": [
    {
     "data": {
      "image/png": "[encoded data removed]",
      "text/plain": [
       "<Figure size 432x288 with 1 Axes>"
      ]
     },
     "metadata": {
      "needs_background": "light"
     },
     "output_type": "display_data"
    }
   ],
   "source": [
    "sns.set_style('white')\n",
    "sns.histplot([len(seq) for seq in train_data])\n",
    "plt.show()"
   ]
  },
  {
   "cell_type": "code",
   "execution_count": 9,
   "metadata": {},
   "outputs": [],
   "source": [
    "from sklearn import model_selection\n",
    "from sklearn.metrics import accuracy_score\n",
    "\n",
    "import tensorflow as tf\n",
    "from tensorflow.keras import models, layers, losses, optimizers, metrics, callbacks\n",
    "from tensorflow.keras.preprocessing.sequence import pad_sequences\n",
    "from tensorflow.keras.preprocessing.text import Tokenizer"
   ]
  },
  {
   "cell_type": "code",
   "execution_count": 20,
   "metadata": {},
   "outputs": [],
   "source": [
    "from sklearn.model_selection import train_test_split\n",
    "\n",
    "train_X, val_X, train_y, val_y = \\\n",
    "    train_test_split(train_data, np.array(train_label), test_size=0.3, stratify=train_label)"
   ]
  },
  {
   "cell_type": "code",
   "execution_count": 21,
   "metadata": {},
   "outputs": [
    {
     "name": "stdout",
     "output_type": "stream",
     "text": [
      "- 중복 제거한 전체 형태소의 수 : 13782\n",
      "- 출현 횟수가 1회인 희귀 형태소의 수 : 6640\n",
      "- 중복 제거한 전체 형태소 중 희귀 형태소의 비율 : 48.17878392105645\n",
      "- 중복 포함한 전체 형태소 중 희귀 형태소 출현 횟수의 비율 : 3.024133863467643\n"
     ]
    }
   ],
   "source": [
    "from collections import Counter\n",
    "\n",
    "tokens = []\n",
    "\n",
    "for tokens_list in train_X:\n",
    "    tokens.extend(tokens_list)\n",
    "\n",
    "tokens_counted = Counter(tokens)\n",
    "\n",
    "num_all_token = len(tokens_counted)\n",
    "num_rare_token = 0\n",
    "\n",
    "for token, count in tokens_counted.items():\n",
    "    if count == 1:\n",
    "        num_rare_token += 1\n",
    "\n",
    "print('- 중복 제거한 전체 형태소의 수 :', num_all_token)\n",
    "print('- 출현 횟수가 1회인 희귀 형태소의 수 :', num_rare_token)\n",
    "\n",
    "print('- 중복 제거한 전체 형태소 중 희귀 형태소의 비율 :', (num_rare_token / num_all_token) * 100)\n",
    "print('- 중복 포함한 전체 형태소 중 희귀 형태소 출현 횟수의 비율 :', (num_rare_token / len(tokens)) * 100)"
   ]
  },
  {
   "cell_type": "code",
   "execution_count": 22,
   "metadata": {},
   "outputs": [
    {
     "name": "stdout",
     "output_type": "stream",
     "text": [
      "어휘 목록(token vocabulary)의 크기 : 7144\n"
     ]
    }
   ],
   "source": [
    "vocab_size = num_all_token - num_rare_token + 2\n",
    "\n",
    "print('어휘 목록(token vocabulary)의 크기 :', vocab_size)"
   ]
  },
  {
   "cell_type": "code",
   "execution_count": 23,
   "metadata": {},
   "outputs": [],
   "source": [
    "tokenizer = Tokenizer(num_words=vocab_size, oov_token='<OOV>') # tensorflow.keras.preprocessing.text.Tokenizer @ https://keras.io/ko/preprocessing/text/\n",
    "# \"num_words\" : 단어 빈도에 따른 사용할 단어 개수의 최대값 (가장 빈번하게 사용되는 num_words 개의 단어만 보존) \n",
    "# -> 출현 빈도 내림차순으로 16475 개의 token만 유지 \n",
    "# \"oov_token\" : oov_token parameter에 특정한 문자열 값이 지정된 경우, 해당 문자열이 단어 색인(word_index)에 추가되어 texts_to_sequences() 호출 과정에서 어휘 목록 외의 단어를 대체합니다.\n",
    "# -> 추후 새로운 문자열에 대해 predict 과정을 진행할 때, training data에 포함되어있지 않은 단어(형태소)를 대상으로 매칭되어 sequence 처리 & predict가 가능하도록 해줍니다. (+ 출현 횟수 1회 형태소 처리)\n",
    "\n",
    "tokenizer.fit_on_texts(train_X) # only \"training\" data\n",
    "\n",
    "# reviews_df['reviews']에 포함된 전체 형태소들에 대해 임의의 Sequence number들과 1:1로 매칭시켜 변환\n",
    "# -> Sequence number는 \"0\"이 아닌 \"1\"부터 시작 (\"0\"은 추후 나올 padding으로 추가될 0을 위해 활용)\n",
    "train_sequences = tokenizer.texts_to_sequences(train_X) \n",
    "test_sequences = tokenizer.texts_to_sequences(val_X) \n",
    "\n",
    "# [ 형태소 : Sequence number ]로 이루어진 dict\n",
    "word_vocab = tokenizer.word_index"
   ]
  },
  {
   "cell_type": "code",
   "execution_count": null,
   "metadata": {},
   "outputs": [],
   "source": [
    "len_nums = []\n",
    "\n",
    "for idx, sublist in enumerate(train_sequences):\n",
    "    len_nums.append([idx, len(sublist)])\n",
    "\n",
    "print('longest sentence (index num & sequence length) :', sorted(len_nums, key=lambda x:x[1], reverse=True)[0], '\\n')\n",
    "\n",
    "print(train_sequences[5779])\n",
    "print(len(train_sequences[5779]))\n",
    "\n",
    "print(train_X.iloc[5779])\n",
    "print(len(train_X.iloc[5779]))"
   ]
  },
  {
   "cell_type": "code",
   "execution_count": null,
   "metadata": {},
   "outputs": [
    {
     "name": "stdout",
     "output_type": "stream",
     "text": [
      "(17500, 60)\n"
     ]
    }
   ],
   "source": [
    "MAX_LENGTH = 60 # >= longest sequence length\n",
    "\n",
    "train_inputs = pad_sequences(train_sequences, \n",
    "                             maxlen=MAX_LENGTH, \n",
    "                             padding='post') # truncating='pre' <- 길이 초과 시 default로 앞의 데이터를 잘라서 버림\n",
    "\n",
    "test_inputs = pad_sequences(test_sequences, \n",
    "                             maxlen=MAX_LENGTH, \n",
    "                             padding='post') # truncating='pre' <- 길이 초과 시 default로 앞의 데이터를 잘라서 버림\n",
    "\n",
    "print(train_inputs.shape)"
   ]
  },
  {
   "cell_type": "code",
   "execution_count": 25,
   "metadata": {},
   "outputs": [
    {
     "name": "stdout",
     "output_type": "stream",
     "text": [
      "7144\n",
      "60\n",
      "4\n"
     ]
    }
   ],
   "source": [
    "VOCAB_SIZE = vocab_size # num_all_token - num_rare_token + 2 \n",
    "MAX_LENGTH = 60 # >= longest sequence length\n",
    "NUM_CLASSES = len(set(train_y)) # number of classes\n",
    "\n",
    "print(VOCAB_SIZE)\n",
    "print(MAX_LENGTH)\n",
    "print(NUM_CLASSES)"
   ]
  },
  {
   "cell_type": "code",
   "execution_count": 26,
   "metadata": {},
   "outputs": [
    {
     "name": "stdout",
     "output_type": "stream",
     "text": [
      "Model: \"sequential_1\"\n",
      "_________________________________________________________________\n",
      " Layer (type)                Output Shape              Param #   \n",
      "=================================================================\n",
      " embedding_1 (Embedding)     (None, 60, 32)            228608    \n",
      "                                                                 \n",
      " global_average_pooling1d_1   (None, 32)               0         \n",
      " (GlobalAveragePooling1D)                                        \n",
      "                                                                 \n",
      " dense_2 (Dense)             (None, 128)               4224      \n",
      "                                                                 \n",
      " dense_3 (Dense)             (None, 4)                 516       \n",
      "                                                                 \n",
      "=================================================================\n",
      "Total params: 233,348\n",
      "Trainable params: 233,348\n",
      "Non-trainable params: 0\n",
      "_________________________________________________________________\n",
      "None\n"
     ]
    }
   ],
   "source": [
    "model = models.Sequential()\n",
    "\n",
    "model.add(layers.Embedding(input_dim=VOCAB_SIZE, output_dim=32, input_length=MAX_LENGTH)) # 3-dimensional cube image @ https://j.mp/2ZjrRno\n",
    "# VOCAB_SIZE == 16475 / dimension of the embedding vector == 32 / MAX_LENGTH == 50\n",
    "# - input (2D tensor) : (batch_size == # of sequences, input_length == 50) \n",
    "# - output (3D tensor) : (batch_size == # of sequences, input_length == 50, output_dim == 32)\n",
    "# -> Embedding layer는 각 단어에 대해 \"훈련 가능한\" 하나의 벡터를 저장 (훈련 후 유사한 의미를 가진 단어는 종종 비슷한 벡터를 갖게 됨)\n",
    "# ->> One-hot vector vs Embedding vector @ https://wikidocs.net/33520 + Vector embeddings @ https://j.mp/3kDOX0w\n",
    "\n",
    "model.add(layers.GlobalAveragePooling1D()) # 다음 셀 예제 참고 & 공식문서 참고 @ https://j.mp/3kzXrWr\n",
    "# - input (3D tensor) : (batch_size == # of sequences, input_length == 50, output_dim == 32)\n",
    "# - output (2D tensor) : (batch_size == # of sequences, output_dim == 32) \n",
    "# -> 2번째 차원(sentence 당 sequence number 개수 50) 방향으로 평균을 계산하여 (None, 50, 32) -> (None, 32) 의 배열 생성\n",
    "# ->> 이를 통해 추후 입력으로 사용되는 sentence에 포함된 sequence number의 개수가 달라지더라도 (ex. test data로 들어오는 문장의 단어 개수가 50이 아닐 때)\n",
    "# ->>> 같은 크기(None, 32)의 벡터로 변환하여 통과시킬 수 있게 됨 (길이가 다른 입력을 다루기 위한 도구)\n",
    "\n",
    "model.add(layers.Dense(128, activation='relu'))\n",
    "model.add(layers.Dense(NUM_CLASSES, activation='softmax'))\n",
    "\n",
    "model.compile(loss=losses.SparseCategoricalCrossentropy(),\n",
    "              optimizer=optimizers.Adam(),\n",
    "              metrics=[metrics.SparseCategoricalAccuracy()])\n",
    "\n",
    "print(model.summary())"
   ]
  },
  {
   "cell_type": "code",
   "execution_count": 27,
   "metadata": {},
   "outputs": [
    {
     "name": "stdout",
     "output_type": "stream",
     "text": [
      "Epoch 1/15\n"
     ]
    },
    {
     "name": "stderr",
     "output_type": "stream",
     "text": [
      "2022-07-12 21:04:18.502446: W tensorflow/core/platform/profile_utils/cpu_utils.cc:128] Failed to get CPU frequency: 0 Hz\n",
      "2022-07-12 21:04:19.189927: I tensorflow/core/grappler/optimizers/custom_graph_optimizer_registry.cc:113] Plugin optimizer for device_type GPU is enabled.\n"
     ]
    },
    {
     "name": "stdout",
     "output_type": "stream",
     "text": [
      "140/140 [==============================] - ETA: 0s - loss: 0.4601 - sparse_categorical_accuracy: 0.3202"
     ]
    },
    {
     "name": "stderr",
     "output_type": "stream",
     "text": [
      "2022-07-12 21:04:24.302463: I tensorflow/core/grappler/optimizers/custom_graph_optimizer_registry.cc:113] Plugin optimizer for device_type GPU is enabled.\n"
     ]
    },
    {
     "name": "stdout",
     "output_type": "stream",
     "text": [
      "\n",
      "Epoch 1: val_sparse_categorical_accuracy improved from -inf to 0.31857, saving model to model/bi-lstmbest_model.h5\n",
      "140/140 [==============================] - 6s 35ms/step - loss: 0.4601 - sparse_categorical_accuracy: 0.3202 - val_loss: 0.3570 - val_sparse_categorical_accuracy: 0.3186\n",
      "Epoch 2/15\n",
      "138/140 [============================>.] - ETA: 0s - loss: 0.3503 - sparse_categorical_accuracy: 0.3204\n",
      "Epoch 2: val_sparse_categorical_accuracy did not improve from 0.31857\n",
      "140/140 [==============================] - 4s 28ms/step - loss: 0.3506 - sparse_categorical_accuracy: 0.3204 - val_loss: 0.3467 - val_sparse_categorical_accuracy: 0.3186\n",
      "Epoch 3/15\n",
      "140/140 [==============================] - ETA: 0s - loss: 0.3468 - sparse_categorical_accuracy: 0.3204\n",
      "Epoch 3: val_sparse_categorical_accuracy did not improve from 0.31857\n",
      "140/140 [==============================] - 4s 26ms/step - loss: 0.3468 - sparse_categorical_accuracy: 0.3204 - val_loss: 0.3380 - val_sparse_categorical_accuracy: 0.3186\n",
      "Epoch 4/15\n",
      "138/140 [============================>.] - ETA: 0s - loss: 0.3462 - sparse_categorical_accuracy: 0.3196\n",
      "Epoch 4: val_sparse_categorical_accuracy did not improve from 0.31857\n",
      "140/140 [==============================] - 3s 25ms/step - loss: 0.3466 - sparse_categorical_accuracy: 0.3204 - val_loss: 0.3354 - val_sparse_categorical_accuracy: 0.3186\n",
      "Epoch 5/15\n",
      "139/140 [============================>.] - ETA: 0s - loss: 0.3455 - sparse_categorical_accuracy: 0.3178\n",
      "Epoch 5: val_sparse_categorical_accuracy did not improve from 0.31857\n",
      "140/140 [==============================] - 4s 26ms/step - loss: 0.3461 - sparse_categorical_accuracy: 0.3169 - val_loss: 0.3852 - val_sparse_categorical_accuracy: 0.1789\n",
      "Epoch 6/15\n",
      "140/140 [==============================] - ETA: 0s - loss: 0.3542 - sparse_categorical_accuracy: 0.3039\n",
      "Epoch 6: val_sparse_categorical_accuracy did not improve from 0.31857\n",
      "140/140 [==============================] - 4s 27ms/step - loss: 0.3542 - sparse_categorical_accuracy: 0.3039 - val_loss: 0.3518 - val_sparse_categorical_accuracy: 0.3186\n",
      "Epoch 7/15\n",
      "139/140 [============================>.] - ETA: 0s - loss: 0.3641 - sparse_categorical_accuracy: 0.2851\n",
      "Epoch 7: val_sparse_categorical_accuracy did not improve from 0.31857\n",
      "140/140 [==============================] - 4s 25ms/step - loss: 0.3651 - sparse_categorical_accuracy: 0.2849 - val_loss: 0.3419 - val_sparse_categorical_accuracy: 0.3186\n",
      "Epoch 8/15\n",
      "140/140 [==============================] - ETA: 0s - loss: 0.3575 - sparse_categorical_accuracy: 0.2959\n",
      "Epoch 8: val_sparse_categorical_accuracy did not improve from 0.31857\n",
      "140/140 [==============================] - 4s 28ms/step - loss: 0.3575 - sparse_categorical_accuracy: 0.2959 - val_loss: 0.3317 - val_sparse_categorical_accuracy: 0.3186\n",
      "Epoch 9/15\n",
      "139/140 [============================>.] - ETA: 0s - loss: 0.3721 - sparse_categorical_accuracy: 0.2826\n",
      "Epoch 9: val_sparse_categorical_accuracy did not improve from 0.31857\n",
      "140/140 [==============================] - 4s 27ms/step - loss: 0.3738 - sparse_categorical_accuracy: 0.2820 - val_loss: 0.3442 - val_sparse_categorical_accuracy: 0.3186\n",
      "Epoch 10/15\n",
      "139/140 [============================>.] - ETA: 0s - loss: 0.5089 - sparse_categorical_accuracy: 0.2671\n",
      "Epoch 10: val_sparse_categorical_accuracy did not improve from 0.31857\n",
      "140/140 [==============================] - 4s 25ms/step - loss: 0.5247 - sparse_categorical_accuracy: 0.2651 - val_loss: 0.3254 - val_sparse_categorical_accuracy: 0.3186\n",
      "Epoch 11/15\n",
      "139/140 [============================>.] - ETA: 0s - loss: 1.1432 - sparse_categorical_accuracy: 0.2311\n",
      "Epoch 11: val_sparse_categorical_accuracy did not improve from 0.31857\n",
      "140/140 [==============================] - 4s 26ms/step - loss: 1.1410 - sparse_categorical_accuracy: 0.2314 - val_loss: 0.4265 - val_sparse_categorical_accuracy: 0.3186\n",
      "Epoch 12/15\n",
      "138/140 [============================>.] - ETA: 0s - loss: 0.6983 - sparse_categorical_accuracy: 0.2346\n",
      "Epoch 12: val_sparse_categorical_accuracy did not improve from 0.31857\n",
      "140/140 [==============================] - 4s 26ms/step - loss: 0.7047 - sparse_categorical_accuracy: 0.2343 - val_loss: 1.2592 - val_sparse_categorical_accuracy: 0.3186\n",
      "Epoch 13/15\n",
      "138/140 [============================>.] - ETA: 0s - loss: 1.0823 - sparse_categorical_accuracy: 0.2227\n",
      "Epoch 13: val_sparse_categorical_accuracy did not improve from 0.31857\n",
      "140/140 [==============================] - 3s 24ms/step - loss: 1.0977 - sparse_categorical_accuracy: 0.2246 - val_loss: 3.4698 - val_sparse_categorical_accuracy: 0.0000e+00\n",
      "Epoch 14/15\n",
      "138/140 [============================>.] - ETA: 0s - loss: 0.9334 - sparse_categorical_accuracy: 0.2249\n",
      "Epoch 14: val_sparse_categorical_accuracy did not improve from 0.31857\n",
      "140/140 [==============================] - 3s 25ms/step - loss: 0.9427 - sparse_categorical_accuracy: 0.2230 - val_loss: 1.1268 - val_sparse_categorical_accuracy: 0.3186\n",
      "Epoch 15/15\n",
      "139/140 [============================>.] - ETA: 0s - loss: 1.2978 - sparse_categorical_accuracy: 0.2112\n",
      "Epoch 15: val_sparse_categorical_accuracy did not improve from 0.31857\n",
      "140/140 [==============================] - 3s 24ms/step - loss: 1.3022 - sparse_categorical_accuracy: 0.2097 - val_loss: 0.8807 - val_sparse_categorical_accuracy: 0.3186\n"
     ]
    }
   ],
   "source": [
    "import os\n",
    "\n",
    "checkpoint_path = 'model/bi-lstm'\n",
    "\n",
    "if not os.path.exists(checkpoint_path):\n",
    "    os.makedirs(checkpoint_path)\n",
    "\n",
    "callback_checkpoint = callbacks.ModelCheckpoint(filepath=checkpoint_path + 'best_model.h5', \n",
    "                                                monitor='val_sparse_categorical_accuracy',\n",
    "                                                save_best_only=True, \n",
    "                                                verbose=1)\n",
    "\n",
    "history = model.fit(train_inputs, train_y, validation_split=0.2,\n",
    "                    epochs=15, batch_size=100,\n",
    "                    verbose=1, callbacks=[callback_checkpoint])"
   ]
  },
  {
   "cell_type": "code",
   "execution_count": 28,
   "metadata": {},
   "outputs": [
    {
     "name": "stdout",
     "output_type": "stream",
     "text": [
      "  1/235 [..............................] - ETA: 1:59"
     ]
    },
    {
     "name": "stderr",
     "output_type": "stream",
     "text": [
      "2022-07-12 21:06:03.519611: I tensorflow/core/grappler/optimizers/custom_graph_optimizer_registry.cc:113] Plugin optimizer for device_type GPU is enabled.\n"
     ]
    },
    {
     "name": "stdout",
     "output_type": "stream",
     "text": [
      "235/235 [==============================] - 1s 4ms/step\n",
      "0.32\n"
     ]
    }
   ],
   "source": [
    "best_model = models.load_model(checkpoint_path + 'best_model.h5')\n",
    "\n",
    "pred = best_model.predict(test_inputs)\n",
    "pred = tf.argmax(pred, axis=1)\n",
    "\n",
    "print(accuracy_score(pred, val_y)) "
   ]
  },
  {
   "cell_type": "markdown",
   "metadata": {},
   "source": [
    "## GRU"
   ]
  },
  {
   "cell_type": "code",
   "execution_count": 2,
   "metadata": {},
   "outputs": [],
   "source": [
    "import re\n",
    "import pandas as pd\n",
    "import numpy as np\n",
    "import matplotlib.pyplot as plt\n",
    "import urllib.request\n",
    "from collections import Counter\n",
    "from konlpy.tag import Mecab\n",
    "from sklearn.model_selection import train_test_split\n",
    "from tensorflow.keras.preprocessing.text import Tokenizer\n",
    "from tensorflow.keras.preprocessing.sequence import pad_sequences"
   ]
  },
  {
   "cell_type": "code",
   "execution_count": 3,
   "metadata": {},
   "outputs": [
    {
     "name": "stdout",
     "output_type": "stream",
     "text": [
      "(25000, 3)\n"
     ]
    },
    {
     "data": {
      "text/html": [
       "<div>\n",
       "<style scoped>\n",
       "    .dataframe tbody tr th:only-of-type {\n",
       "        vertical-align: middle;\n",
       "    }\n",
       "\n",
       "    .dataframe tbody tr th {\n",
       "        vertical-align: top;\n",
       "    }\n",
       "\n",
       "    .dataframe thead th {\n",
       "        text-align: right;\n",
       "    }\n",
       "</style>\n",
       "<table border=\"1\" class=\"dataframe\">\n",
       "  <thead>\n",
       "    <tr style=\"text-align: right;\">\n",
       "      <th></th>\n",
       "      <th>id</th>\n",
       "      <th>reviews</th>\n",
       "      <th>target</th>\n",
       "    </tr>\n",
       "  </thead>\n",
       "  <tbody>\n",
       "    <tr>\n",
       "      <th>0</th>\n",
       "      <td>0</td>\n",
       "      <td>조아요 처음구입 싸게햇어요</td>\n",
       "      <td>2</td>\n",
       "    </tr>\n",
       "    <tr>\n",
       "      <th>1</th>\n",
       "      <td>1</td>\n",
       "      <td>생각보다 잘 안돼요 매지 바른지 하루밖에 안됐는데ㅠㅠ 25천원가량 주고 사기 너무 ...</td>\n",
       "      <td>1</td>\n",
       "    </tr>\n",
       "    <tr>\n",
       "      <th>2</th>\n",
       "      <td>2</td>\n",
       "      <td>디자인은괜찮은데 상품이 금이가서 교환했는데 두번째받은상품도 까져있고 안쪽에 금이가져...</td>\n",
       "      <td>2</td>\n",
       "    </tr>\n",
       "    <tr>\n",
       "      <th>3</th>\n",
       "      <td>3</td>\n",
       "      <td>기전에 이 제품말고 이마트 트레이더스에서만 팔던 프리미엄 제품을 사용했었습니다. 샘...</td>\n",
       "      <td>2</td>\n",
       "    </tr>\n",
       "    <tr>\n",
       "      <th>4</th>\n",
       "      <td>4</td>\n",
       "      <td>튼튼하고 손목을 잘 받쳐주네요~</td>\n",
       "      <td>5</td>\n",
       "    </tr>\n",
       "  </tbody>\n",
       "</table>\n",
       "</div>"
      ],
      "text/plain": [
       "   id                                            reviews  target\n",
       "0   0                                     조아요 처음구입 싸게햇어요       2\n",
       "1   1  생각보다 잘 안돼요 매지 바른지 하루밖에 안됐는데ㅠㅠ 25천원가량 주고 사기 너무 ...       1\n",
       "2   2  디자인은괜찮은데 상품이 금이가서 교환했는데 두번째받은상품도 까져있고 안쪽에 금이가져...       2\n",
       "3   3  기전에 이 제품말고 이마트 트레이더스에서만 팔던 프리미엄 제품을 사용했었습니다. 샘...       2\n",
       "4   4                                  튼튼하고 손목을 잘 받쳐주네요~       5"
      ]
     },
     "execution_count": 3,
     "metadata": {},
     "output_type": "execute_result"
    }
   ],
   "source": [
    "train = pd.read_csv('data/train.csv')\n",
    "test = pd.read_csv('data/test.csv')\n",
    "print(train.shape)\n",
    "train.head()"
   ]
  },
  {
   "cell_type": "code",
   "execution_count": 4,
   "metadata": {},
   "outputs": [],
   "source": [
    "train_data, test_data = train.copy(), test.copy()"
   ]
  },
  {
   "cell_type": "code",
   "execution_count": 5,
   "metadata": {},
   "outputs": [
    {
     "name": "stdout",
     "output_type": "stream",
     "text": [
      "   target  count\n",
      "0       1   4500\n",
      "1       2   8000\n",
      "2       4   2500\n",
      "3       5  10000\n"
     ]
    }
   ],
   "source": [
    "print(train_data.groupby('target').size().reset_index(name = 'count'))"
   ]
  },
  {
   "cell_type": "code",
   "execution_count": 6,
   "metadata": {},
   "outputs": [
    {
     "name": "stdout",
     "output_type": "stream",
     "text": [
      "id         0\n",
      "reviews    0\n",
      "target     0\n",
      "dtype: int64\n"
     ]
    },
    {
     "name": "stderr",
     "output_type": "stream",
     "text": [
      "/var/folders/md/nkdcc_y53654tkfkhydnl1g00000gn/T/ipykernel_28195/2891514628.py:1: FutureWarning: The default value of regex will change from True to False in a future version.\n",
      "  train_data['reviews'] = train_data['reviews'].str.replace(\"[^ㄱ-ㅎㅏ-ㅣ가-힣 ]\",\"\")\n"
     ]
    }
   ],
   "source": [
    "train_data['reviews'] = train_data['reviews'].str.replace(\"[^ㄱ-ㅎㅏ-ㅣ가-힣 ]\",\"\")\n",
    "train_data['reviews'].replace('', np.nan, inplace=True)\n",
    "print(train_data.isnull().sum())"
   ]
  },
  {
   "cell_type": "code",
   "execution_count": 7,
   "metadata": {},
   "outputs": [
    {
     "name": "stdout",
     "output_type": "stream",
     "text": [
      "전처리 후 테스트용 샘플의 개수 : 25000\n"
     ]
    },
    {
     "name": "stderr",
     "output_type": "stream",
     "text": [
      "/var/folders/md/nkdcc_y53654tkfkhydnl1g00000gn/T/ipykernel_28195/3945388277.py:2: FutureWarning: The default value of regex will change from True to False in a future version.\n",
      "  test_data['reviews'] = test_data['reviews'].str.replace(\"[^ㄱ-ㅎㅏ-ㅣ가-힣 ]\",\"\") # 정규 표현식 수행\n"
     ]
    }
   ],
   "source": [
    "# test_data.drop_duplicates(subset = ['reviews'], inplace=True) # 중복 제거\n",
    "test_data['reviews'] = test_data['reviews'].str.replace(\"[^ㄱ-ㅎㅏ-ㅣ가-힣 ]\",\"\") # 정규 표현식 수행\n",
    "# test_data['reviews'].replace('', np.nan, inplace=True) # 공백은 Null 값으로 변경\n",
    "# test_data = test_data.dropna(how='any') # Null 값 제거\n",
    "print('전처리 후 테스트용 샘플의 개수 :',len(test_data))"
   ]
  },
  {
   "cell_type": "code",
   "execution_count": 8,
   "metadata": {},
   "outputs": [],
   "source": [
    "okt = Okt()\n",
    "stop_words = stopwords.words('korean')\n",
    "\n",
    "train_data['tokenized'] = train_data['reviews'].apply(lambda x: okt.morphs(x, stem=True))\n",
    "train_data['tokenized'] = train_data['tokenized'].apply(lambda x: [item for item in x if item not in stop_words])\n",
    "test_data['tokenized'] = test_data['reviews'].apply(lambda x: okt.morphs(x, stem=True))\n",
    "test_data['tokenized'] = test_data['tokenized'].apply(lambda x: [item for item in x if item not in stop_words])"
   ]
  },
  {
   "cell_type": "code",
   "execution_count": 9,
   "metadata": {},
   "outputs": [],
   "source": [
    "negative_words = np.hstack(train_data[(train_data.target == 1) | (train_data.target == 2)]['tokenized'].values)\n",
    "positive_words = np.hstack(train_data[(train_data.target == 4) | (train_data.target == 5)]['tokenized'].values)"
   ]
  },
  {
   "cell_type": "code",
   "execution_count": 10,
   "metadata": {},
   "outputs": [
    {
     "name": "stdout",
     "output_type": "stream",
     "text": [
      "[('너무', 2168), ('안', 1998), ('요', 1978), ('보다', 1598), ('배송', 1541), ('없다', 1452), ('그냥', 1395), ('좋다', 1348), ('않다', 1282), ('오다', 1120), ('이다', 1050), ('되다', 1043), ('쓰다', 1021), ('별로', 950), ('사다', 923), ('생각', 871), ('아니다', 858), ('제품', 857), ('못', 854), ('자다', 852)]\n"
     ]
    }
   ],
   "source": [
    "negative_word_count = Counter(negative_words)\n",
    "print(negative_word_count.most_common(20))"
   ]
  },
  {
   "cell_type": "code",
   "execution_count": 11,
   "metadata": {},
   "outputs": [
    {
     "name": "stdout",
     "output_type": "stream",
     "text": [
      "[('좋다', 6148), ('배송', 1984), ('자다', 1713), ('너무', 1548), ('재다', 1469), ('먹다', 1431), ('보다', 1373), ('빠르다', 1283), ('구매', 1164), ('요', 1066), ('잘', 1009), ('사용', 906), ('이다', 847), ('쓰다', 837), ('가격', 837), ('사다', 775), ('만족하다', 772), ('맛있다', 757), ('되다', 715), ('않다', 709)]\n"
     ]
    }
   ],
   "source": [
    "positive_word_count = Counter(positive_words)\n",
    "print(positive_word_count.most_common(20))"
   ]
  },
  {
   "cell_type": "code",
   "execution_count": 12,
   "metadata": {},
   "outputs": [
    {
     "name": "stdout",
     "output_type": "stream",
     "text": [
      "긍정 리뷰의 평균 길이 : 12.36464\n",
      "부정 리뷰의 평균 길이 : 9.35232\n"
     ]
    },
    {
     "data": {
      "image/png": "[encoded data removed]",
      "text/plain": [
       "<Figure size 720x360 with 2 Axes>"
      ]
     },
     "metadata": {
      "needs_background": "light"
     },
     "output_type": "display_data"
    }
   ],
   "source": [
    "fig,(ax1,ax2) = plt.subplots(1,2,figsize=(10,5))\n",
    "text_len = train_data[(train_data.target == 1) | (train_data.target == 2)]['tokenized'].map(lambda x: len(x))\n",
    "ax1.hist(text_len, color='red')\n",
    "ax1.set_title('Positive Reviews')\n",
    "ax1.set_xlabel('length of samples')\n",
    "ax1.set_ylabel('number of samples')\n",
    "print('긍정 리뷰의 평균 길이 :', np.mean(text_len))\n",
    "\n",
    "text_len = train_data[(train_data.target == 4) | (train_data.target == 5)]['tokenized'].map(lambda x: len(x))\n",
    "ax2.hist(text_len, color='blue')\n",
    "ax2.set_title('Negative Reviews')\n",
    "fig.suptitle('Words in texts')\n",
    "ax2.set_xlabel('length of samples')\n",
    "ax2.set_ylabel('number of samples')\n",
    "print('부정 리뷰의 평균 길이 :', np.mean(text_len))\n",
    "plt.show()"
   ]
  },
  {
   "cell_type": "code",
   "execution_count": 13,
   "metadata": {},
   "outputs": [],
   "source": [
    "X_train = train_data['tokenized'].values\n",
    "y_train = train_data['target'].values\n",
    "X_test= test_data['tokenized'].values\n",
    "# y_test = test_data['target'].values"
   ]
  },
  {
   "cell_type": "code",
   "execution_count": 14,
   "metadata": {},
   "outputs": [],
   "source": [
    "tokenizer = Tokenizer()\n",
    "tokenizer.fit_on_texts(X_train)"
   ]
  },
  {
   "cell_type": "code",
   "execution_count": 15,
   "metadata": {},
   "outputs": [
    {
     "name": "stdout",
     "output_type": "stream",
     "text": [
      "단어 집합(vocabulary)의 크기 : 15202\n",
      "등장 빈도가 1번 이하인 희귀 단어의 수: 7129\n",
      "단어 집합에서 희귀 단어의 비율: 46.89514537560847\n",
      "전체 등장 빈도에서 희귀 단어 등장 빈도 비율: 2.626150253074095\n"
     ]
    }
   ],
   "source": [
    "threshold = 2\n",
    "total_cnt = len(tokenizer.word_index) # 단어의 수\n",
    "rare_cnt = 0 # 등장 빈도수가 threshold보다 작은 단어의 개수를 카운트\n",
    "total_freq = 0 # 훈련 데이터의 전체 단어 빈도수 총 합\n",
    "rare_freq = 0 # 등장 빈도수가 threshold보다 작은 단어의 등장 빈도수의 총 합\n",
    "\n",
    "# 단어와 빈도수의 쌍(pair)을 key와 value로 받는다.\n",
    "for key, value in tokenizer.word_counts.items():\n",
    "    total_freq = total_freq + value\n",
    "\n",
    "    # 단어의 등장 빈도수가 threshold보다 작으면\n",
    "    if(value < threshold):\n",
    "        rare_cnt = rare_cnt + 1\n",
    "        rare_freq = rare_freq + value\n",
    "\n",
    "print('단어 집합(vocabulary)의 크기 :',total_cnt)\n",
    "print('등장 빈도가 %s번 이하인 희귀 단어의 수: %s'%(threshold - 1, rare_cnt))\n",
    "print(\"단어 집합에서 희귀 단어의 비율:\", (rare_cnt / total_cnt)*100)\n",
    "print(\"전체 등장 빈도에서 희귀 단어 등장 빈도 비율:\", (rare_freq / total_freq)*100)"
   ]
  },
  {
   "cell_type": "code",
   "execution_count": 16,
   "metadata": {},
   "outputs": [
    {
     "name": "stdout",
     "output_type": "stream",
     "text": [
      "단어 집합의 크기 : 8075\n"
     ]
    }
   ],
   "source": [
    "vocab_size = total_cnt - rare_cnt + 2\n",
    "print('단어 집합의 크기 :',vocab_size)"
   ]
  },
  {
   "cell_type": "code",
   "execution_count": 17,
   "metadata": {},
   "outputs": [],
   "source": [
    "tokenizer = Tokenizer(vocab_size, oov_token = 'OOV') \n",
    "tokenizer.fit_on_texts(X_train)\n",
    "X_train = tokenizer.texts_to_sequences(X_train)\n",
    "X_test = tokenizer.texts_to_sequences(X_test)"
   ]
  },
  {
   "cell_type": "code",
   "execution_count": 18,
   "metadata": {},
   "outputs": [
    {
     "name": "stdout",
     "output_type": "stream",
     "text": [
      "[[2, 98, 78, 57, 296, 5], [23, 6, 7, 8, 164, 590, 305, 243, 481, 8, 164, 35, 888, 2086, 102, 1077, 3, 212], [100, 45, 53, 958, 89, 132, 474, 26, 53, 220, 761, 958, 89, 55, 131, 22, 790, 4, 388, 320, 276]]\n"
     ]
    }
   ],
   "source": [
    "print(X_train[:3])"
   ]
  },
  {
   "cell_type": "code",
   "execution_count": 19,
   "metadata": {},
   "outputs": [
    {
     "name": "stdout",
     "output_type": "stream",
     "text": [
      "리뷰의 최대 길이 : 54\n",
      "리뷰의 평균 길이 : 10.85848\n"
     ]
    },
    {
     "data": {
      "image/png": "[encoded data removed]",
      "text/plain": [
       "<Figure size 432x288 with 1 Axes>"
      ]
     },
     "metadata": {
      "needs_background": "light"
     },
     "output_type": "display_data"
    }
   ],
   "source": [
    "print('리뷰의 최대 길이 :',max(len(review) for review in X_train))\n",
    "print('리뷰의 평균 길이 :',sum(map(len, X_train))/len(X_train))\n",
    "plt.hist([len(review) for review in X_train], bins=50)\n",
    "plt.xlabel('length of samples')\n",
    "plt.ylabel('number of samples')\n",
    "plt.show()"
   ]
  },
  {
   "cell_type": "code",
   "execution_count": 20,
   "metadata": {},
   "outputs": [],
   "source": [
    "max_len = 60\n",
    "X_train = pad_sequences(X_train, maxlen=max_len, truncating='post', padding='post')\n",
    "X_test = pad_sequences(X_test, maxlen=max_len, truncating='post', padding='post')"
   ]
  },
  {
   "cell_type": "code",
   "execution_count": 21,
   "metadata": {},
   "outputs": [
    {
     "data": {
      "text/plain": [
       "array([  2,  98,  78,  57, 296,   5,   0,   0,   0,   0,   0,   0,   0,\n",
       "         0,   0,   0,   0,   0,   0,   0,   0,   0,   0,   0,   0,   0,\n",
       "         0,   0,   0,   0,   0,   0,   0,   0,   0,   0,   0,   0,   0,\n",
       "         0,   0,   0,   0,   0,   0,   0,   0,   0,   0,   0,   0,   0,\n",
       "         0,   0,   0,   0,   0,   0,   0,   0], dtype=int32)"
      ]
     },
     "execution_count": 21,
     "metadata": {},
     "output_type": "execute_result"
    }
   ],
   "source": [
    "X_train[0]"
   ]
  },
  {
   "cell_type": "code",
   "execution_count": 22,
   "metadata": {},
   "outputs": [
    {
     "data": {
      "text/plain": [
       "((25000, 60), (25000,), (25000, 60))"
      ]
     },
     "execution_count": 22,
     "metadata": {},
     "output_type": "execute_result"
    }
   ],
   "source": [
    "X_train.shape, y_train.shape, X_test.shape"
   ]
  },
  {
   "cell_type": "code",
   "execution_count": 23,
   "metadata": {},
   "outputs": [],
   "source": [
    "np.save('data/X_train', X_train)\n",
    "np.save('data/y_train', y_train)\n",
    "np.save('data/X_test', X_test)"
   ]
  },
  {
   "cell_type": "code",
   "execution_count": 25,
   "metadata": {},
   "outputs": [
    {
     "data": {
      "text/plain": [
       "((25000, 60), (25000,), (25000, 60))"
      ]
     },
     "execution_count": 25,
     "metadata": {},
     "output_type": "execute_result"
    }
   ],
   "source": [
    "import numpy as np\n",
    "\n",
    "X_train = np.load('data/X_train.npy')\n",
    "y_train = np.load('data/y_train.npy')\n",
    "X_test = np.load('data/X_test.npy')\n",
    "X_train.shape, y_train.shape, X_test.shape"
   ]
  },
  {
   "cell_type": "code",
   "execution_count": 26,
   "metadata": {},
   "outputs": [
    {
     "data": {
      "text/plain": [
       "(25000, 4)"
      ]
     },
     "execution_count": 26,
     "metadata": {},
     "output_type": "execute_result"
    }
   ],
   "source": [
    "from tensorflow.keras.utils import to_categorical\n",
    "y_train = to_categorical(y_train)\n",
    "y_train = y_train[:,[1,2,4,5]]\n",
    "y_train.shape"
   ]
  },
  {
   "cell_type": "code",
   "execution_count": 43,
   "metadata": {},
   "outputs": [],
   "source": [
    "from tensorflow_addons.metrics import F1Score"
   ]
  },
  {
   "cell_type": "code",
   "execution_count": 53,
   "metadata": {},
   "outputs": [
    {
     "name": "stdout",
     "output_type": "stream",
     "text": [
      "Epoch 1/15\n"
     ]
    },
    {
     "name": "stderr",
     "output_type": "stream",
     "text": [
      "2022-07-12 22:56:57.275999: I tensorflow/core/grappler/optimizers/custom_graph_optimizer_registry.cc:113] Plugin optimizer for device_type GPU is enabled.\n",
      "2022-07-12 22:56:57.702338: I tensorflow/core/grappler/optimizers/custom_graph_optimizer_registry.cc:113] Plugin optimizer for device_type GPU is enabled.\n",
      "2022-07-12 22:56:57.942769: I tensorflow/core/grappler/optimizers/custom_graph_optimizer_registry.cc:113] Plugin optimizer for device_type GPU is enabled.\n"
     ]
    },
    {
     "name": "stdout",
     "output_type": "stream",
     "text": [
      "200/200 [==============================] - ETA: 0s - loss: 1.2782 - f1_score: 0.1426 - accuracy: 0.3991"
     ]
    },
    {
     "name": "stderr",
     "output_type": "stream",
     "text": [
      "2022-07-12 22:57:32.845852: I tensorflow/core/grappler/optimizers/custom_graph_optimizer_registry.cc:113] Plugin optimizer for device_type GPU is enabled.\n",
      "2022-07-12 22:57:33.120921: I tensorflow/core/grappler/optimizers/custom_graph_optimizer_registry.cc:113] Plugin optimizer for device_type GPU is enabled.\n"
     ]
    },
    {
     "name": "stdout",
     "output_type": "stream",
     "text": [
      "\n",
      "Epoch 1: val_accuracy improved from -inf to 0.40380, saving model to model/gru/best_model.h5\n",
      "200/200 [==============================] - 40s 191ms/step - loss: 1.2782 - f1_score: 0.1426 - accuracy: 0.3991 - val_loss: 1.2619 - val_f1_score: 0.1438 - val_accuracy: 0.4038\n",
      "Epoch 2/15\n",
      "200/200 [==============================] - ETA: 0s - loss: 1.2739 - f1_score: 0.1707 - accuracy: 0.3942\n",
      "Epoch 2: val_accuracy did not improve from 0.40380\n",
      "200/200 [==============================] - 27s 136ms/step - loss: 1.2739 - f1_score: 0.1707 - accuracy: 0.3942 - val_loss: 1.2658 - val_f1_score: 0.1438 - val_accuracy: 0.4038\n",
      "Epoch 3/15\n",
      "200/200 [==============================] - ETA: 0s - loss: 1.2747 - f1_score: 0.1426 - accuracy: 0.3991\n",
      "Epoch 3: val_accuracy did not improve from 0.40380\n",
      "200/200 [==============================] - 29s 147ms/step - loss: 1.2747 - f1_score: 0.1426 - accuracy: 0.3991 - val_loss: 1.2627 - val_f1_score: 0.1438 - val_accuracy: 0.4038\n",
      "Epoch 4/15\n",
      "200/200 [==============================] - ETA: 0s - loss: 1.2747 - f1_score: 0.1511 - accuracy: 0.3968\n",
      "Epoch 4: val_accuracy did not improve from 0.40380\n",
      "200/200 [==============================] - 71s 354ms/step - loss: 1.2747 - f1_score: 0.1511 - accuracy: 0.3968 - val_loss: 1.2652 - val_f1_score: 0.1438 - val_accuracy: 0.4038\n",
      "Epoch 5/15\n",
      "200/200 [==============================] - ETA: 0s - loss: 1.2738 - f1_score: 0.1426 - accuracy: 0.3991\n",
      "Epoch 5: val_accuracy did not improve from 0.40380\n",
      "200/200 [==============================] - 66s 325ms/step - loss: 1.2738 - f1_score: 0.1426 - accuracy: 0.3991 - val_loss: 1.2618 - val_f1_score: 0.1438 - val_accuracy: 0.4038\n",
      "Epoch 6/15\n",
      "200/200 [==============================] - ETA: 0s - loss: 1.2743 - f1_score: 0.1426 - accuracy: 0.3991\n",
      "Epoch 6: val_accuracy did not improve from 0.40380\n",
      "200/200 [==============================] - 43s 211ms/step - loss: 1.2743 - f1_score: 0.1426 - accuracy: 0.3991 - val_loss: 1.2672 - val_f1_score: 0.1438 - val_accuracy: 0.4038\n",
      "Epoch 7/15\n",
      "200/200 [==============================] - ETA: 0s - loss: 1.2740 - f1_score: 0.1426 - accuracy: 0.3991\n",
      "Epoch 7: val_accuracy did not improve from 0.40380\n",
      "200/200 [==============================] - 35s 175ms/step - loss: 1.2740 - f1_score: 0.1426 - accuracy: 0.3991 - val_loss: 1.2619 - val_f1_score: 0.1438 - val_accuracy: 0.4038\n",
      "Epoch 8/15\n",
      "200/200 [==============================] - ETA: 0s - loss: 1.2734 - f1_score: 0.1426 - accuracy: 0.3991\n",
      "Epoch 8: val_accuracy did not improve from 0.40380\n",
      "200/200 [==============================] - 33s 161ms/step - loss: 1.2734 - f1_score: 0.1426 - accuracy: 0.3991 - val_loss: 1.2622 - val_f1_score: 0.1438 - val_accuracy: 0.4038\n",
      "Epoch 9/15\n",
      "200/200 [==============================] - ETA: 0s - loss: 1.2740 - f1_score: 0.1426 - accuracy: 0.3991\n",
      "Epoch 9: val_accuracy did not improve from 0.40380\n",
      "200/200 [==============================] - 34s 169ms/step - loss: 1.2740 - f1_score: 0.1426 - accuracy: 0.3991 - val_loss: 1.2629 - val_f1_score: 0.1438 - val_accuracy: 0.4038\n",
      "Epoch 9: early stopping\n"
     ]
    }
   ],
   "source": [
    "from tensorflow.keras.layers import Embedding, Dense, GRU\n",
    "from tensorflow.keras.models import Sequential\n",
    "from tensorflow.keras.models import load_model\n",
    "from tensorflow.keras.callbacks import EarlyStopping, ModelCheckpoint\n",
    "\n",
    "embedding_dim = 100\n",
    "hidden_units = 128\n",
    "\n",
    "model = Sequential()\n",
    "model.add(Embedding(vocab_size, embedding_dim))\n",
    "model.add(GRU(hidden_units))\n",
    "model.add(Dense(4, activation='softmax'))\n",
    "\n",
    "es = EarlyStopping(monitor='val_loss', mode='min', verbose=1, patience=4)\n",
    "mc = ModelCheckpoint('model/gru/best_model.h5', monitor='val_accuracy', mode='max', verbose=1, save_best_only=True)\n",
    "\n",
    "model.compile(optimizer='adam', loss='categorical_crossentropy', metrics=[F1Score(num_classes=4), 'accuracy'])\n",
    "history = model.fit(X_train, y_train, epochs=15, callbacks=[es, mc], batch_size=100, validation_split=0.2)"
   ]
  },
  {
   "cell_type": "code",
   "execution_count": 54,
   "metadata": {},
   "outputs": [
    {
     "name": "stderr",
     "output_type": "stream",
     "text": [
      "2022-07-12 23:12:11.846386: I tensorflow/core/grappler/optimizers/custom_graph_optimizer_registry.cc:113] Plugin optimizer for device_type GPU is enabled.\n",
      "2022-07-12 23:12:12.175923: I tensorflow/core/grappler/optimizers/custom_graph_optimizer_registry.cc:113] Plugin optimizer for device_type GPU is enabled.\n"
     ]
    },
    {
     "name": "stdout",
     "output_type": "stream",
     "text": [
      "782/782 [==============================] - 12s 13ms/step\n"
     ]
    }
   ],
   "source": [
    "from tensorflow.keras import models\n",
    "import tensorflow as tf\n",
    "best_model = models.load_model('model/gru/best_model.h5')\n",
    "\n",
    "pred = best_model.predict(X_test)\n",
    "# pred = tf.argmax(pred, axis=1)"
   ]
  },
  {
   "cell_type": "code",
   "execution_count": 55,
   "metadata": {},
   "outputs": [
    {
     "data": {
      "text/plain": [
       "{3}"
      ]
     },
     "execution_count": 55,
     "metadata": {},
     "output_type": "execute_result"
    }
   ],
   "source": [
    "set(np.argmax(pred, axis=1).tolist())"
   ]
  },
  {
   "cell_type": "code",
   "execution_count": 27,
   "metadata": {},
   "outputs": [
    {
     "data": {
      "text/html": [
       "<div>\n",
       "<style scoped>\n",
       "    .dataframe tbody tr th:only-of-type {\n",
       "        vertical-align: middle;\n",
       "    }\n",
       "\n",
       "    .dataframe tbody tr th {\n",
       "        vertical-align: top;\n",
       "    }\n",
       "\n",
       "    .dataframe thead th {\n",
       "        text-align: right;\n",
       "    }\n",
       "</style>\n",
       "<table border=\"1\" class=\"dataframe\">\n",
       "  <thead>\n",
       "    <tr style=\"text-align: right;\">\n",
       "      <th></th>\n",
       "      <th>id</th>\n",
       "      <th>target</th>\n",
       "    </tr>\n",
       "  </thead>\n",
       "  <tbody>\n",
       "    <tr>\n",
       "      <th>0</th>\n",
       "      <td>0</td>\n",
       "      <td>0</td>\n",
       "    </tr>\n",
       "    <tr>\n",
       "      <th>1</th>\n",
       "      <td>1</td>\n",
       "      <td>0</td>\n",
       "    </tr>\n",
       "    <tr>\n",
       "      <th>2</th>\n",
       "      <td>2</td>\n",
       "      <td>0</td>\n",
       "    </tr>\n",
       "    <tr>\n",
       "      <th>3</th>\n",
       "      <td>3</td>\n",
       "      <td>0</td>\n",
       "    </tr>\n",
       "    <tr>\n",
       "      <th>4</th>\n",
       "      <td>4</td>\n",
       "      <td>0</td>\n",
       "    </tr>\n",
       "  </tbody>\n",
       "</table>\n",
       "</div>"
      ],
      "text/plain": [
       "   id  target\n",
       "0   0       0\n",
       "1   1       0\n",
       "2   2       0\n",
       "3   3       0\n",
       "4   4       0"
      ]
     },
     "execution_count": 27,
     "metadata": {},
     "output_type": "execute_result"
    }
   ],
   "source": [
    "submission = pd.read_csv(\"data/sample_submission.csv\") \n",
    "submission.head()"
   ]
  },
  {
   "cell_type": "code",
   "execution_count": 28,
   "metadata": {},
   "outputs": [
    {
     "data": {
      "text/html": [
       "<div>\n",
       "<style scoped>\n",
       "    .dataframe tbody tr th:only-of-type {\n",
       "        vertical-align: middle;\n",
       "    }\n",
       "\n",
       "    .dataframe tbody tr th {\n",
       "        vertical-align: top;\n",
       "    }\n",
       "\n",
       "    .dataframe thead th {\n",
       "        text-align: right;\n",
       "    }\n",
       "</style>\n",
       "<table border=\"1\" class=\"dataframe\">\n",
       "  <thead>\n",
       "    <tr style=\"text-align: right;\">\n",
       "      <th></th>\n",
       "      <th>id</th>\n",
       "      <th>target</th>\n",
       "    </tr>\n",
       "  </thead>\n",
       "  <tbody>\n",
       "    <tr>\n",
       "      <th>0</th>\n",
       "      <td>0</td>\n",
       "      <td>2</td>\n",
       "    </tr>\n",
       "    <tr>\n",
       "      <th>1</th>\n",
       "      <td>1</td>\n",
       "      <td>2</td>\n",
       "    </tr>\n",
       "    <tr>\n",
       "      <th>2</th>\n",
       "      <td>2</td>\n",
       "      <td>2</td>\n",
       "    </tr>\n",
       "    <tr>\n",
       "      <th>3</th>\n",
       "      <td>3</td>\n",
       "      <td>2</td>\n",
       "    </tr>\n",
       "    <tr>\n",
       "      <th>4</th>\n",
       "      <td>4</td>\n",
       "      <td>2</td>\n",
       "    </tr>\n",
       "  </tbody>\n",
       "</table>\n",
       "</div>"
      ],
      "text/plain": [
       "   id  target\n",
       "0   0       2\n",
       "1   1       2\n",
       "2   2       2\n",
       "3   3       2\n",
       "4   4       2"
      ]
     },
     "execution_count": 28,
     "metadata": {},
     "output_type": "execute_result"
    }
   ],
   "source": [
    "submission['target'] = pred\n",
    "submission.head()"
   ]
  },
  {
   "cell_type": "code",
   "execution_count": 29,
   "metadata": {},
   "outputs": [
    {
     "data": {
      "text/plain": [
       "array([2])"
      ]
     },
     "execution_count": 29,
     "metadata": {},
     "output_type": "execute_result"
    }
   ],
   "source": [
    "submission['target'].unique()"
   ]
  },
  {
   "cell_type": "code",
   "execution_count": null,
   "metadata": {},
   "outputs": [],
   "source": []
  }
 ],
 "metadata": {
  "kernelspec": {
   "display_name": "Python 3.8.13 64-bit ('mldl')",
   "language": "python",
   "name": "python3"
  },
  "language_info": {
   "codemirror_mode": {
    "name": "ipython",
    "version": 3
   },
   "file_extension": ".py",
   "mimetype": "text/x-python",
   "name": "python",
   "nbconvert_exporter": "python",
   "pygments_lexer": "ipython3",
   "version": "3.8.13"
  },
  "orig_nbformat": 4,
  "vscode": {
   "interpreter": {
    "hash": "86ae205601b6d906014fa7892090616f7e1469eb0aa86f06d2d1803a695f1eb6"
   }
  }
 },
 "nbformat": 4,
 "nbformat_minor": 2
}
