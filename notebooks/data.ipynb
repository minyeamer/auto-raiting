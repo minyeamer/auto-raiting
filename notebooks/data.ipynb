{
 "cells": [
  {
   "cell_type": "markdown",
   "metadata": {},
   "source": [
    "# Data Preprocessing"
   ]
  },
  {
   "cell_type": "code",
   "execution_count": 1,
   "metadata": {},
   "outputs": [],
   "source": [
    "import warnings\n",
    "warnings.filterwarnings(\"ignore\")\n",
    "\n",
    "import numpy as np\n",
    "import pandas as pd\n",
    "import matplotlib.pyplot as plt\n",
    "import seaborn as sns\n",
    "\n",
    "from nltk.corpus import stopwords\n",
    "stop_words = stopwords.words('korean')\n",
    "from konlpy.tag import Okt\n",
    "import googletrans\n",
    "import nlpaug.augmenter.word as naw\n",
    "import re\n",
    "from typing import List, Set\n",
    "\n",
    "from webdriver_manager.chrome import ChromeDriverManager\n",
    "from selenium import webdriver\n",
    "from selenium.webdriver.chrome.service import Service\n",
    "from selenium.webdriver.common.by import By\n",
    "import urllib\n",
    "import time\n",
    "from tqdm import tqdm_notebook\n",
    "\n",
    "import os\n",
    "os.chdir('../')"
   ]
  },
  {
   "cell_type": "code",
   "execution_count": 2,
   "metadata": {},
   "outputs": [],
   "source": [
    "import random\n",
    "\n",
    "def seed_everything(seed):\n",
    "    random.seed(seed)\n",
    "    os.environ['PYTHONHASHSEED'] = str(seed)\n",
    "    np.random.seed(seed)\n",
    "\n",
    "seed_everything(42)"
   ]
  },
  {
   "cell_type": "markdown",
   "metadata": {},
   "source": [
    "## Load Data"
   ]
  },
  {
   "cell_type": "code",
   "execution_count": 2,
   "metadata": {},
   "outputs": [
    {
     "name": "stdout",
     "output_type": "stream",
     "text": [
      "(25000, 3)\n"
     ]
    },
    {
     "data": {
      "text/html": [
       "<div>\n",
       "<style scoped>\n",
       "    .dataframe tbody tr th:only-of-type {\n",
       "        vertical-align: middle;\n",
       "    }\n",
       "\n",
       "    .dataframe tbody tr th {\n",
       "        vertical-align: top;\n",
       "    }\n",
       "\n",
       "    .dataframe thead th {\n",
       "        text-align: right;\n",
       "    }\n",
       "</style>\n",
       "<table border=\"1\" class=\"dataframe\">\n",
       "  <thead>\n",
       "    <tr style=\"text-align: right;\">\n",
       "      <th></th>\n",
       "      <th>id</th>\n",
       "      <th>reviews</th>\n",
       "      <th>target</th>\n",
       "    </tr>\n",
       "  </thead>\n",
       "  <tbody>\n",
       "    <tr>\n",
       "      <th>0</th>\n",
       "      <td>0</td>\n",
       "      <td>조아요 처음구입 싸게햇어요</td>\n",
       "      <td>2</td>\n",
       "    </tr>\n",
       "    <tr>\n",
       "      <th>1</th>\n",
       "      <td>1</td>\n",
       "      <td>생각보다 잘 안돼요 매지 바른지 하루밖에 안됐는데ㅠㅠ 25천원가량 주고 사기 너무 ...</td>\n",
       "      <td>1</td>\n",
       "    </tr>\n",
       "    <tr>\n",
       "      <th>2</th>\n",
       "      <td>2</td>\n",
       "      <td>디자인은괜찮은데 상품이 금이가서 교환했는데 두번째받은상품도 까져있고 안쪽에 금이가져...</td>\n",
       "      <td>2</td>\n",
       "    </tr>\n",
       "    <tr>\n",
       "      <th>3</th>\n",
       "      <td>3</td>\n",
       "      <td>기전에 이 제품말고 이마트 트레이더스에서만 팔던 프리미엄 제품을 사용했었습니다. 샘...</td>\n",
       "      <td>2</td>\n",
       "    </tr>\n",
       "    <tr>\n",
       "      <th>4</th>\n",
       "      <td>4</td>\n",
       "      <td>튼튼하고 손목을 잘 받쳐주네요~</td>\n",
       "      <td>5</td>\n",
       "    </tr>\n",
       "  </tbody>\n",
       "</table>\n",
       "</div>"
      ],
      "text/plain": [
       "   id                                            reviews  target\n",
       "0   0                                     조아요 처음구입 싸게햇어요       2\n",
       "1   1  생각보다 잘 안돼요 매지 바른지 하루밖에 안됐는데ㅠㅠ 25천원가량 주고 사기 너무 ...       1\n",
       "2   2  디자인은괜찮은데 상품이 금이가서 교환했는데 두번째받은상품도 까져있고 안쪽에 금이가져...       2\n",
       "3   3  기전에 이 제품말고 이마트 트레이더스에서만 팔던 프리미엄 제품을 사용했었습니다. 샘...       2\n",
       "4   4                                  튼튼하고 손목을 잘 받쳐주네요~       5"
      ]
     },
     "execution_count": 2,
     "metadata": {},
     "output_type": "execute_result"
    }
   ],
   "source": [
    "train = pd.read_csv('data/train.csv')\n",
    "test = pd.read_csv('data/test.csv')\n",
    "print(train.shape)\n",
    "train.head()"
   ]
  },
  {
   "cell_type": "markdown",
   "metadata": {},
   "source": [
    "## Data Augmentation"
   ]
  },
  {
   "cell_type": "code",
   "execution_count": null,
   "metadata": {},
   "outputs": [
    {
     "data": {
      "image/png": "[encoded data removed]",
      "text/plain": [
       "<Figure size 432x288 with 1 Axes>"
      ]
     },
     "metadata": {
      "needs_background": "light"
     },
     "output_type": "display_data"
    }
   ],
   "source": [
    "sns.set_style('whitegrid')\n",
    "sns.countplot(data=train, x='target')\n",
    "plt.show()"
   ]
  },
  {
   "cell_type": "markdown",
   "metadata": {},
   "source": [
    "라벨 간 불균형을 조정하기 위해 번역을 활용한 데이터 증강기법 적용"
   ]
  },
  {
   "cell_type": "markdown",
   "metadata": {},
   "source": [
    "1. 한글 > 영어 > 한글 역번역\n",
    "- 번역기의 버전 차이인지 실제 웹 상에서의 번역 결과와 googletrans를 통한 번역 결과가 다름\n",
    "- '별로'를 'good'으로 번역하는 등의 이슈가 발생"
   ]
  },
  {
   "cell_type": "code",
   "execution_count": null,
   "metadata": {},
   "outputs": [],
   "source": [
    "import googletrans\n",
    "\n",
    "translator = googletrans.Translator()"
   ]
  },
  {
   "cell_type": "code",
   "execution_count": null,
   "metadata": {},
   "outputs": [
    {
     "name": "stdout",
     "output_type": "stream",
     "text": [
      "화면하고 전혀틀림\n",
      "The screen is completely different\n",
      "화면은 완전히 다릅니다\n",
      "--------------------------------------------------\n",
      "배송도 빠르고 눈썹은 괜찮은데 글로가 정말 별로네요ㅜ\n",
      "The delivery is fast and the eyebrows are fine, but the writing is really good.\n",
      "배달은 빠르고 눈썹은 괜찮지 만 글은 정말 좋습니다.\n",
      "--------------------------------------------------\n",
      "재구매 빠른배송 감사합니다 노란색이 더좋았어요\n",
      "Thank you for your repurchase fast delivery. The yellow color was better.\n",
      "재구매 빠른 배송에 감사드립니다.노란색이 더 좋았습니다.\n",
      "--------------------------------------------------\n"
     ]
    }
   ],
   "source": [
    "for i in [11,121,1331]:\n",
    "    original = train['reviews'].iloc[i]\n",
    "    translated = translator.translate(original, dest='en', src='ko').text\n",
    "    result = translator.translate(translated, dest='ko', src='en').text\n",
    "\n",
    "    print(original)\n",
    "    print(translated)\n",
    "    print(result)\n",
    "    print('-'*50)"
   ]
  },
  {
   "cell_type": "markdown",
   "metadata": {},
   "source": [
    "2. NLPAUG 동의어 변환\n",
    "- WordNet에서 한글 소스가 존재하지 않음"
   ]
  },
  {
   "cell_type": "code",
   "execution_count": null,
   "metadata": {},
   "outputs": [
    {
     "data": {
      "text/plain": [
       "['red orchard apple tree']"
      ]
     },
     "metadata": {},
     "output_type": "display_data"
    }
   ],
   "source": [
    "import nlpaug.augmenter.word as naw\n",
    "\n",
    "aug = naw.SynonymAug()\n",
    "text = 'red apple'\n",
    "aug.augment(text)"
   ]
  },
  {
   "cell_type": "markdown",
   "metadata": {},
   "source": [
    "3. 역번역 중간에 NLPAUG 적용\n",
    "- 번역된 문장이 올바를 경우에 원본 문장의 감정을 변질시키지 않고 다른 표현으로 변환할 수 있음을 확인"
   ]
  },
  {
   "cell_type": "code",
   "execution_count": null,
   "metadata": {},
   "outputs": [
    {
     "name": "stdout",
     "output_type": "stream",
     "text": [
      "화면하고 전혀틀림\n",
      "The screen is completely different\n",
      "The blind be completely different\n",
      "블라인드는 완전히 다릅니다\n",
      "--------------------------------------------------\n",
      "배송도 빠르고 눈썹은 괜찮은데 글로가 정말 별로네요ㅜ\n",
      "The delivery is fast and the eyebrows are fine, but the writing is really good.\n",
      "The livery constitute tight and the brow are fine, just the writing is really good.\n",
      "정복은 단단하고 눈썹은 괜찮습니다. 글쓰기 만 정말 좋습니다.\n",
      "--------------------------------------------------\n",
      "재구매 빠른배송 감사합니다 노란색이 더좋았어요\n",
      "Thank you for your repurchase fast delivery. The yellow color was better.\n",
      "Thank you for your repurchase fast delivery. The yellow colouring material be well.\n",
      "재구매 빠른 배송에 감사드립니다.노란색 채색 재료가 잘됩니다.\n",
      "--------------------------------------------------\n"
     ]
    }
   ],
   "source": [
    "for i in [11,121,1331]:\n",
    "    original = train['reviews'].iloc[i]\n",
    "    translated = translator.translate(original, dest='en', src='ko').text\n",
    "    augmented = aug.augment(translated)[0]\n",
    "    result = translator.translate(augmented, dest='ko', src='en').text\n",
    "\n",
    "    print(original)\n",
    "    print(translated)\n",
    "    print(augmented)\n",
    "    print(result)\n",
    "    print('-'*50)"
   ]
  },
  {
   "cell_type": "markdown",
   "metadata": {},
   "source": [
    "4. 토큰 단위로 역번역\n",
    "- 문장 번역보다는 그럴듯한 결과가 나왔지만, 역번역이 여전히 어설프고 번역 속도가 너무 느림"
   ]
  },
  {
   "cell_type": "code",
   "execution_count": null,
   "metadata": {},
   "outputs": [],
   "source": [
    "def ko_tokenize(sentence):\n",
    "    okt = Okt()\n",
    "    sentence = re.sub('[^ㄱ-ㅎㅏ-ㅣ가-힣 ]','',sentence)\n",
    "    tokenized = okt.morphs(sentence)\n",
    "    return [word for word in tokenized if word not in stop_words]"
   ]
  },
  {
   "cell_type": "code",
   "execution_count": null,
   "metadata": {},
   "outputs": [
    {
     "name": "stdout",
     "output_type": "stream",
     "text": [
      "['화면', '하고', '전혀', '틀림']\n",
      "['screen', 'do', 'Not at all', 'error']\n",
      "['화면', '전혀', '오류']\n",
      "--------------------------------------------------\n",
      "['배송', '빠르고', '눈썹', '괜찮은데', '글로', '정말', '별로', '요', 'ㅜ']\n",
      "['shipping', 'Fast', 'Eyebrow', \"It's okay\", 'Writings', 'really', 'not really', 'yo. this', 'sob']\n",
      "['배송', '빠른', '눈썹', '괜찮아요', '진짜', '에야', '디', '흐', '느낌']\n",
      "--------------------------------------------------\n",
      "['재구매', '빠른', '배송', '감사합니다', '노란색', '더', '좋았어요']\n",
      "['Repurchase', 'fast', 'shipping', 'thank you', 'yellow', 'more', 'It was good']\n",
      "['환매', '빠른', '배송', '감사합니다', '노란색', '더', '좋았습니다']\n",
      "--------------------------------------------------\n"
     ]
    }
   ],
   "source": [
    "for i in [11,121,1331]:\n",
    "    original = ko_tokenize(train['reviews'].iloc[i])\n",
    "    translated = [translator.translate(token, dest='en', src='ko').text for token in original]\n",
    "    result = [translator.translate(token, dest='ko', src='en').text for token in translated]\n",
    "    result = ko_tokenize(' '.join(result))\n",
    "\n",
    "    print(original)\n",
    "    print(translated)\n",
    "    print(result)\n",
    "    print('-'*50)"
   ]
  },
  {
   "cell_type": "markdown",
   "metadata": {},
   "source": [
    "5. Word2Vec를 활용한 유사어 변환\n",
    "- 외부 데이터를 활용하지 못하는 환경에서는 원본 데이터의 단어를 조합하는 수준에 불과하기 때문에 유의미한 결과를 내지 못할 것이라 판단\n",
    "- 또한 서로 다른 감정의 단어를 묶어서 벡터를 생성할 경우 1점 리뷰에 '감사합니다'라는 단어가 들어가는 등의 예측을 방해하는 노이즈가 발생하는 이슈를 확인"
   ]
  },
  {
   "cell_type": "code",
   "execution_count": null,
   "metadata": {},
   "outputs": [],
   "source": [
    "from gensim.models import Word2Vec\n",
    "\n",
    "num_features = 300\n",
    "train_data = [ko_tokenize(data) for data in train['reviews']]\n",
    "model = Word2Vec(sentences=train_data, vector_size=num_features, window=5, min_count=1, workers=4, sg=0)"
   ]
  },
  {
   "cell_type": "code",
   "execution_count": null,
   "metadata": {},
   "outputs": [
    {
     "name": "stdout",
     "output_type": "stream",
     "text": [
      "['화면', '하고', '전혀', '틀림']\n",
      "['베란다', '계란', '시중', '해서']\n",
      "--------------------------------------------------\n",
      "['배송', '빠르고', '눈썹', '괜찮은데', '글로', '정말', '별로', '요', 'ㅜ']\n",
      "['충전', '빨랐어요', '양도', '기네', '글로', '였어요', '감사합니다', '특히', '손']\n",
      "--------------------------------------------------\n",
      "['재구매', '빠른', '배송', '감사합니다', '노란색', '더', '좋았어요']\n",
      "['빨라요', '사이트', '라서', '거리', '항상', '친절하고', '감사합니다']\n",
      "--------------------------------------------------\n"
     ]
    }
   ],
   "source": [
    "for i in [11,121,1331]:\n",
    "    original = ko_tokenize(train['reviews'].iloc[i])\n",
    "    result = list()\n",
    "    for token in original:\n",
    "        synonym = model.wv.most_similar(token)[0]\n",
    "        result.append(synonym[0] if synonym[1] > 0.95 else token)\n",
    "    result = list(set(result))\n",
    "\n",
    "    print(original)\n",
    "    print(result)\n",
    "    print('-'*50)"
   ]
  },
  {
   "cell_type": "markdown",
   "metadata": {},
   "source": [
    "6. 파파고 크롤링을 활용한 한영 번역 후 구글 번역을 통한 역번역\n",
    "- 파파고 API를 활용 시 더욱 빨리 번역을 진행할 수 있지만, 글자 수 단위로 과금이 발생하기에 크롤링으로 번역되지 않는 문장에 한해 시행\n",
    "- 평점 5점에 대한 리뷰의 경우 증강을 진행하지 않을 것이기 때문에 번역할 필요가 없지만, 시간이 남아 같이 진행"
   ]
  },
  {
   "cell_type": "code",
   "execution_count": null,
   "metadata": {},
   "outputs": [
    {
     "name": "stdout",
     "output_type": "stream",
     "text": [
      "전체 글자 수: 999702\n"
     ]
    }
   ],
   "source": [
    "print('전체 글자 수:', sum([len(review) for review in train['reviews']]))"
   ]
  },
  {
   "cell_type": "code",
   "execution_count": null,
   "metadata": {},
   "outputs": [
    {
     "name": "stdout",
     "output_type": "stream",
     "text": [
      "\n",
      "화면하고 전혀틀림\n",
      "Completely different from the screen\n",
      "화면과 완전히 다릅니다\n",
      "--------------------------------------------------\n",
      "배송도 빠르고 눈썹은 괜찮은데 글로가 정말 별로네요ㅜ\n",
      "The delivery is fast and the eyebrows are okay, but the writing is really bad\n",
      "배달은 빠르고 눈썹은 괜찮지 만 글은 정말 나쁘다\n",
      "--------------------------------------------------\n",
      "재구매 빠른배송 감사합니다 노란색이 더좋았어요\n",
      "Thank you for repurchase and fast shipping I liked yellow more\n",
      "재구매하고 빠른 배송 감사합니다. 나는 노란색 더 좋아했습니다.\n",
      "--------------------------------------------------\n"
     ]
    }
   ],
   "source": [
    "service = Service(executable_path=ChromeDriverManager().install())\n",
    "driver = webdriver.Chrome(service=service)\n",
    "\n",
    "src, dest = 'ko', 'en'\n",
    "translate_url = f'https://papago.naver.com/?sk={src}&tk={dest}'\n",
    "\n",
    "driver.get(translate_url)\n",
    "time.sleep(3)\n",
    "\n",
    "for i in [11,121,1331]:\n",
    "    original = train['reviews'].iloc[i]\n",
    "\n",
    "    driver.find_element(By.ID, 'txtSource').clear()\n",
    "    driver.find_element(By.ID, 'txtSource').send_keys(original)\n",
    "\n",
    "    time.sleep(3)\n",
    "    translated = driver.find_element(By.ID, 'txtTarget').text\n",
    "    result = translator.translate(translated, dest=src, src=dest).text\n",
    "\n",
    "    print(original)\n",
    "    print(translated)\n",
    "    print(result)\n",
    "    print('-'*50)\n",
    "\n",
    "driver.close()"
   ]
  },
  {
   "cell_type": "markdown",
   "metadata": {},
   "source": [
    "### Data Augmentation Process\n",
    "1. 파파고 크롤링과 API를 활용해 한글 리뷰를 영어로 변환한 데이터프레임 생성\n",
    "2. NLPAUG 라이브러리의 동의어 변형 기법을 활용해 랜덤한 문장을 필요한 수만큼 증강\n",
    "3. 증강된 영문을 파파고 API로 역번역해 리뷰 데이터에 추가"
   ]
  },
  {
   "cell_type": "code",
   "execution_count": null,
   "metadata": {},
   "outputs": [
    {
     "name": "stdout",
     "output_type": "stream",
     "text": [
      "예상 시간: 1184분\n"
     ]
    }
   ],
   "source": [
    "total_delay = sum([np.sqrt(np.log(len(review)))+1 for review in train['reviews']])\n",
    "expected_time = int((3 + total_delay) // 60)\n",
    "print(f'예상 시간: {expected_time}분')"
   ]
  },
  {
   "cell_type": "code",
   "execution_count": null,
   "metadata": {},
   "outputs": [],
   "source": [
    "service = Service(executable_path=ChromeDriverManager().install())\n",
    "driver = webdriver.Chrome(service=service)\n",
    "\n",
    "src, dest = 'ko', 'en'\n",
    "translate_url = f'https://papago.naver.com/?sk={src}&tk={dest}'\n",
    "train['translated'] = None\n",
    "translated, error = list(), list()\n",
    "\n",
    "driver.get(translate_url)\n",
    "time.sleep(3)\n",
    "\n",
    "for i, review in enumerate(tqdm_notebook(train['reviews'][11355:]),11355):\n",
    "    try:\n",
    "        driver.find_element(By.ID, 'txtSource').clear()\n",
    "        driver.find_element(By.ID, 'txtSource').send_keys(review)\n",
    "        time.sleep(np.sqrt(np.log(len(review)))+1)\n",
    "        train['translated'][i] = driver.find_element(By.ID, 'txtTarget').text\n",
    "    except:\n",
    "        pass\n",
    "\n",
    "driver.close()"
   ]
  },
  {
   "cell_type": "code",
   "execution_count": null,
   "metadata": {},
   "outputs": [
    {
     "name": "stdout",
     "output_type": "stream",
     "text": [
      "<class 'pandas.core.frame.DataFrame'>\n",
      "RangeIndex: 25000 entries, 0 to 24999\n",
      "Data columns (total 4 columns):\n",
      " #   Column      Non-Null Count  Dtype \n",
      "---  ------      --------------  ----- \n",
      " 0   id          25000 non-null  int64 \n",
      " 1   reviews     25000 non-null  object\n",
      " 2   target      25000 non-null  int64 \n",
      " 3   translated  24920 non-null  object\n",
      "dtypes: int64(2), object(2)\n",
      "memory usage: 781.4+ KB\n"
     ]
    }
   ],
   "source": [
    "train.info()"
   ]
  },
  {
   "cell_type": "markdown",
   "metadata": {},
   "source": [
    "크롤링 중 딜레이가 충분하지 않아 이전에 번역된 문장이 저장되거나, 이모티콘 등으로 인해 번역이 진행되지 않은 경우를 확인   \n",
    "해당하는 행들을 추출하여 파파고 API를 통해 한영 번역 시도"
   ]
  },
  {
   "cell_type": "code",
   "execution_count": null,
   "metadata": {},
   "outputs": [],
   "source": [
    "headers = {\n",
    "    'X-NCP-APIGW-API-KEY-ID': 'YOUR_CLIENT_ID',\n",
    "    'X-NCP-APIGW-API-KEY': 'YOUR_CLIENT_SECRET'\n",
    "}\n",
    "url = 'https://naveropenapi.apigw.ntruss.com/nmt/v1/translation'\n",
    "errors = dict()\n",
    "\n",
    "untranslated = train[(train['translated'].duplicated()) | (train['translated'].isna())]\n",
    "indices = untranslated.index\n",
    "reviews = untranslated['reviews']\n",
    "\n",
    "for i, review in zip(indices, reviews):\n",
    "    data = 'source=ko&target=en&text=' + urllib.parse.quote(review)\n",
    "    request = urllib.request.Request(url, headers=headers)\n",
    "    response = urllib.request.urlopen(request, data=data.encode('utf-8'))\n",
    "    rescode = response.getcode()\n",
    "    if rescode == 200:\n",
    "        response_body = response.read().decode('utf-8')\n",
    "        translated = re.search('\"translatedText\":\"(.+?)\"', response_body).group(1)\n",
    "        train['translated'][i] = translated.encode('utf-8', 'ignore').decode('utf-8').strip()\n",
    "    else:\n",
    "        errors[i] = rescode"
   ]
  },
  {
   "cell_type": "markdown",
   "metadata": {},
   "source": [
    "번역 결과에 포함된 이모티콘 유니코드를 출력 가능한 형태로 변환하기 어려워 문자열 인코딩을 통해 제거"
   ]
  },
  {
   "cell_type": "code",
   "execution_count": null,
   "metadata": {},
   "outputs": [],
   "source": [
    "train['translated'] = train['translated'].apply(lambda x: re.sub('\\.\\.\\.\\.+','...',x))\n",
    "train['translated'] = train['translated'].apply(lambda x: re.sub(\"[^A-Za-z0-9',!\\?\\^:()~. ]\",'',x).strip())\n",
    "train['translated'] = train['translated'].apply(lambda x: re.sub(' +',' ',x))"
   ]
  },
  {
   "cell_type": "code",
   "execution_count": null,
   "metadata": {},
   "outputs": [],
   "source": [
    "headers = {\n",
    "    'X-NCP-APIGW-API-KEY-ID': 'YOUR_CLIENT_ID',\n",
    "    'X-NCP-APIGW-API-KEY': 'YOUR_CLIENT_SECRET'\n",
    "}\n",
    "url = 'https://naveropenapi.apigw.ntruss.com/nmt/v1/translation'\n",
    "errors = dict()\n",
    "\n",
    "untranslated = train[train['translated'].str.len() < 15]\n",
    "indices = untranslated.index\n",
    "reviews = untranslated['reviews']\n",
    "\n",
    "for i, review in zip(indices, reviews):\n",
    "    data = 'source=ko&target=en&text=' + urllib.parse.quote(review)\n",
    "    request = urllib.request.Request(url, headers=headers)\n",
    "    response = urllib.request.urlopen(request, data=data.encode('utf-8'))\n",
    "    rescode = response.getcode()\n",
    "    if rescode == 200:\n",
    "        response_body = response.read().decode('utf-8')\n",
    "        translated = re.search('\"translatedText\":\"(.+?)\"', response_body).group(1)\n",
    "        train['translated'][i] = translated.encode('utf-8', 'ignore').decode('utf-8').strip()\n",
    "    else:\n",
    "        errors[i] = rescode"
   ]
  },
  {
   "cell_type": "markdown",
   "metadata": {},
   "source": [
    "크롤링 오류 등으로 식별 불가능한 문자들에 한해 재번역 시도"
   ]
  },
  {
   "cell_type": "code",
   "execution_count": null,
   "metadata": {},
   "outputs": [],
   "source": [
    "train['translated'] = train['translated'].apply(lambda x: re.sub('\\.\\.\\.\\.+','...',x))\n",
    "train['translated'] = train['translated'].apply(lambda x: re.sub(\"[^A-Za-z0-9',!\\?\\^:()~. ]\",'',x).strip())\n",
    "train['translated'] = train['translated'].apply(lambda x: re.sub(' +',' ',x))"
   ]
  },
  {
   "cell_type": "code",
   "execution_count": null,
   "metadata": {},
   "outputs": [
    {
     "data": {
      "text/html": [
       "<div>\n",
       "<style scoped>\n",
       "    .dataframe tbody tr th:only-of-type {\n",
       "        vertical-align: middle;\n",
       "    }\n",
       "\n",
       "    .dataframe tbody tr th {\n",
       "        vertical-align: top;\n",
       "    }\n",
       "\n",
       "    .dataframe thead th {\n",
       "        text-align: right;\n",
       "    }\n",
       "</style>\n",
       "<table border=\"1\" class=\"dataframe\">\n",
       "  <thead>\n",
       "    <tr style=\"text-align: right;\">\n",
       "      <th></th>\n",
       "      <th>id</th>\n",
       "      <th>reviews</th>\n",
       "      <th>target</th>\n",
       "      <th>translated</th>\n",
       "    </tr>\n",
       "  </thead>\n",
       "  <tbody>\n",
       "    <tr>\n",
       "      <th>10548</th>\n",
       "      <td>10548</td>\n",
       "      <td>굿 저렴해요 ㅂㄷㄴㄱㅈㄴㄷㅇㄴㅂㅈㄱㅈㄷㅎㅇㅈㅂㄷㄹㅇㅅㅇㄷㄱㄴㄱㅈㄷㅅㄴㅇㅈㄱㄷㄱㄷㅅㅈ...</td>\n",
       "      <td>5</td>\n",
       "      <td></td>\n",
       "    </tr>\n",
       "    <tr>\n",
       "      <th>20137</th>\n",
       "      <td>20137</td>\n",
       "      <td>잘받았습니다 ㄷㄱㄷㄴㅇ짖ㄷㄱㅅㄱㅇㅈ은ㄱㅎㅂ지ㅡㄴㅇㄴㅅㄱㄷㅂㅈㅅㄱㄷㅇㄷㄴㄱㄷㅈㄱㄷ림ㅂ...</td>\n",
       "      <td>2</td>\n",
       "      <td></td>\n",
       "    </tr>\n",
       "    <tr>\n",
       "      <th>20777</th>\n",
       "      <td>20777</td>\n",
       "      <td>ㅂㄷㄱㄷㄱ ㄴㅋㅌㄱㅈㅋㄷㅂㄷㄱㅈㄷㅂㄷㅂㅈㅂㄷㅂㄷㄱㅈ극ㄷㄱㄷㅂㄷㅂㅈㄱㄷㄱㅈㅂㄷㄱㅈ긎ㄱ...</td>\n",
       "      <td>5</td>\n",
       "      <td></td>\n",
       "    </tr>\n",
       "    <tr>\n",
       "      <th>21034</th>\n",
       "      <td>21034</td>\n",
       "      <td>ㅎㅇㄴㅁㅎㅇㄴㅁㅎㅇㄴㅁ ㅎㅇㄴㅁㅎㅁㄴ애ㅔ혀ㅓㅔ;ㅇㅁ로ㅕㅐ;ㄹㅇ마ㅓ;힘ㅇ넣ㅁㄴㅇㅎㅇㄴ...</td>\n",
       "      <td>5</td>\n",
       "      <td></td>\n",
       "    </tr>\n",
       "    <tr>\n",
       "      <th>21117</th>\n",
       "      <td>21117</td>\n",
       "      <td>ㅂㄷ로ㅗㅜㅜㅡ</td>\n",
       "      <td>2</td>\n",
       "      <td></td>\n",
       "    </tr>\n",
       "    <tr>\n",
       "      <th>22916</th>\n",
       "      <td>22916</td>\n",
       "      <td>ㄱㆍㄷㄱㄴㅈㄱㅅㅈㅂㄴㄷㅂ늡ㄴ ㄴㅈㅂㄴㄷㄱㆍㄷㅂㄴㅈㅂㄴㄷ곡ㄴㅈㅂㄴㄷㅂㆍㄷㄱㆍㄷ악ㄴㄷㄱ...</td>\n",
       "      <td>2</td>\n",
       "      <td></td>\n",
       "    </tr>\n",
       "  </tbody>\n",
       "</table>\n",
       "</div>"
      ],
      "text/plain": [
       "          id                                            reviews  target  \\\n",
       "10548  10548  굿 저렴해요 ㅂㄷㄴㄱㅈㄴㄷㅇㄴㅂㅈㄱㅈㄷㅎㅇㅈㅂㄷㄹㅇㅅㅇㄷㄱㄴㄱㅈㄷㅅㄴㅇㅈㄱㄷㄱㄷㅅㅈ...       5   \n",
       "20137  20137  잘받았습니다 ㄷㄱㄷㄴㅇ짖ㄷㄱㅅㄱㅇㅈ은ㄱㅎㅂ지ㅡㄴㅇㄴㅅㄱㄷㅂㅈㅅㄱㄷㅇㄷㄴㄱㄷㅈㄱㄷ림ㅂ...       2   \n",
       "20777  20777  ㅂㄷㄱㄷㄱ ㄴㅋㅌㄱㅈㅋㄷㅂㄷㄱㅈㄷㅂㄷㅂㅈㅂㄷㅂㄷㄱㅈ극ㄷㄱㄷㅂㄷㅂㅈㄱㄷㄱㅈㅂㄷㄱㅈ긎ㄱ...       5   \n",
       "21034  21034  ㅎㅇㄴㅁㅎㅇㄴㅁㅎㅇㄴㅁ ㅎㅇㄴㅁㅎㅁㄴ애ㅔ혀ㅓㅔ;ㅇㅁ로ㅕㅐ;ㄹㅇ마ㅓ;힘ㅇ넣ㅁㄴㅇㅎㅇㄴ...       5   \n",
       "21117  21117                                            ㅂㄷ로ㅗㅜㅜㅡ       2   \n",
       "22916  22916  ㄱㆍㄷㄱㄴㅈㄱㅅㅈㅂㄴㄷㅂ늡ㄴ ㄴㅈㅂㄴㄷㄱㆍㄷㅂㄴㅈㅂㄴㄷ곡ㄴㅈㅂㄴㄷㅂㆍㄷㄱㆍㄷ악ㄴㄷㄱ...       2   \n",
       "\n",
       "      translated  \n",
       "10548             \n",
       "20137             \n",
       "20777             \n",
       "21034             \n",
       "21117             \n",
       "22916             "
      ]
     },
     "metadata": {},
     "output_type": "display_data"
    }
   ],
   "source": [
    "train[train['translated'].str.len() <= 5]"
   ]
  },
  {
   "cell_type": "markdown",
   "metadata": {},
   "source": [
    "검증 후에도 여전히 번역되지 않는 리뷰를 확인했을 때, 노이즈 데이터로 이루어진 것을 확인하고 해당 행들을 제거"
   ]
  },
  {
   "cell_type": "code",
   "execution_count": null,
   "metadata": {},
   "outputs": [],
   "source": [
    "train = train[train['translated'].str.len() > 5]"
   ]
  },
  {
   "cell_type": "code",
   "execution_count": null,
   "metadata": {},
   "outputs": [
    {
     "name": "stdout",
     "output_type": "stream",
     "text": [
      "<class 'pandas.core.frame.DataFrame'>\n",
      "Int64Index: 24994 entries, 0 to 24999\n",
      "Data columns (total 4 columns):\n",
      " #   Column      Non-Null Count  Dtype \n",
      "---  ------      --------------  ----- \n",
      " 0   id          24994 non-null  int64 \n",
      " 1   reviews     24994 non-null  object\n",
      " 2   target      24994 non-null  int64 \n",
      " 3   translated  24994 non-null  object\n",
      "dtypes: int64(2), object(2)\n",
      "memory usage: 976.3+ KB\n"
     ]
    }
   ],
   "source": [
    "train.info()"
   ]
  },
  {
   "cell_type": "code",
   "execution_count": null,
   "metadata": {},
   "outputs": [],
   "source": [
    "train.to_csv('translated.csv',index=False)"
   ]
  },
  {
   "cell_type": "code",
   "execution_count": null,
   "metadata": {},
   "outputs": [
    {
     "data": {
      "text/plain": [
       "5    9997\n",
       "2    7997\n",
       "1    4500\n",
       "4    2500\n",
       "Name: target, dtype: int64"
      ]
     },
     "metadata": {},
     "output_type": "display_data"
    }
   ],
   "source": [
    "train = pd.read_csv('data/translated.csv')\n",
    "train['target'].value_counts()"
   ]
  },
  {
   "cell_type": "markdown",
   "metadata": {},
   "source": [
    "가장 수가 많은 평점 5점 리뷰 수에 맞춰 역번역할 문장을 수집 후 파파고 API를 통해 번역   \n",
    "2배 이상의 증강이 필요할 경우 NLPAUG 라이브러리 활용"
   ]
  },
  {
   "cell_type": "code",
   "execution_count": null,
   "metadata": {},
   "outputs": [],
   "source": [
    "def add_synonyms(sentences: Set[str], num_aug: int) -> List[str]:\n",
    "    aug = naw.SynonymAug()\n",
    "    while len(sentences) < num_aug:\n",
    "        augmented = [aug.augment(sentence)[0] for sentence in sentences]\n",
    "        sentences.update(set(augmented))\n",
    "    return random.sample(sentences, num_aug)\n",
    "\n",
    "def nlpaug(sentences: List[str], num_aug: int) -> List[str]:\n",
    "    sentences = set(sentences)\n",
    "    try:\n",
    "        return random.sample(sentences, num_aug)\n",
    "    except ValueError:\n",
    "        return add_synonyms(sentences, num_aug)"
   ]
  },
  {
   "cell_type": "code",
   "execution_count": null,
   "metadata": {},
   "outputs": [],
   "source": [
    "aug_df = pd.DataFrame({'translated':list(),'target':list()})\n",
    "counts = train['target'].value_counts()\n",
    "for target in train['target'].unique():\n",
    "    target_df = train[train['target'] == target]\n",
    "    num_aug = counts.max() - counts[target]\n",
    "    result = nlpaug(target_df['translated'].tolist(), num_aug)\n",
    "\n",
    "    if result:\n",
    "        result_df = pd.DataFrame({'translated':result,'target':target})\n",
    "        aug_df = pd.concat([aug_df, result_df], ignore_index=True)"
   ]
  },
  {
   "cell_type": "code",
   "execution_count": null,
   "metadata": {},
   "outputs": [],
   "source": [
    "headers = {\n",
    "    'X-NCP-APIGW-API-KEY-ID': 'a0x8zwruyr',\n",
    "    'X-NCP-APIGW-API-KEY': 'aTVaZ063CVlXX38EzE2iS3Z9NFMDB3DtwFUqL8Jn'\n",
    "}\n",
    "url = 'https://naveropenapi.apigw.ntruss.com/nmt/v1/translation'\n",
    "errors = dict()\n",
    "\n",
    "aug_df['reviews'] = None\n",
    "\n",
    "for i, review in enumerate(tqdm_notebook(aug_df['translated'].tolist())):\n",
    "    data = 'source=en&target=ko&text=' + urllib.parse.quote(review)\n",
    "    request = urllib.request.Request(url, headers=headers)\n",
    "    response = urllib.request.urlopen(request, data=data.encode('utf-8'))\n",
    "    rescode = response.getcode()\n",
    "    if rescode == 200:\n",
    "        response_body = response.read().decode('utf-8')\n",
    "        translated = re.search('\"translatedText\":\"(.+?)\"', response_body).group(1)\n",
    "        aug_df['reviews'][i] = translated.encode('utf-8', 'ignore').decode('utf-8').strip()\n",
    "    else:\n",
    "        errors[i] = rescode"
   ]
  },
  {
   "cell_type": "code",
   "execution_count": null,
   "metadata": {},
   "outputs": [
    {
     "name": "stdout",
     "output_type": "stream",
     "text": [
      "(39988, 3)\n"
     ]
    },
    {
     "data": {
      "text/plain": [
       "2.0    9997\n",
       "1.0    9997\n",
       "5.0    9997\n",
       "4.0    9997\n",
       "Name: target, dtype: int64"
      ]
     },
     "metadata": {},
     "output_type": "display_data"
    }
   ],
   "source": [
    "train = pd.concat([train,aug_df], ignore_index=True).drop('translated',axis=1)\n",
    "print(train.shape)\n",
    "train['target'].value_counts()"
   ]
  },
  {
   "cell_type": "code",
   "execution_count": null,
   "metadata": {},
   "outputs": [
    {
     "data": {
      "image/png": "[encoded data removed]",
      "text/plain": [
       "<Figure size 432x288 with 1 Axes>"
      ]
     },
     "metadata": {
      "needs_background": "light"
     },
     "output_type": "display_data"
    }
   ],
   "source": [
    "sns.set_style('whitegrid')\n",
    "sns.countplot(data=train, x='target')\n",
    "plt.show()"
   ]
  },
  {
   "cell_type": "markdown",
   "metadata": {},
   "source": [
    "평점 별 데이터가 균등하게 분포된 것을 확인"
   ]
  },
  {
   "cell_type": "code",
   "execution_count": null,
   "metadata": {},
   "outputs": [],
   "source": [
    "train['id'] = train.index\n",
    "train['target'] = train['target'].astype('int64')\n",
    "train.to_csv('augmented.csv',index=False)"
   ]
  }
 ],
 "metadata": {
  "kernelspec": {
   "display_name": "Python 3.8.13 64-bit ('mldl')",
   "language": "python",
   "name": "python3"
  },
  "language_info": {
   "codemirror_mode": {
    "name": "ipython",
    "version": 3
   },
   "file_extension": ".py",
   "mimetype": "text/x-python",
   "name": "python",
   "nbconvert_exporter": "python",
   "pygments_lexer": "ipython3",
   "version": "3.8.13"
  },
  "orig_nbformat": 4,
  "vscode": {
   "interpreter": {
    "hash": "86ae205601b6d906014fa7892090616f7e1469eb0aa86f06d2d1803a695f1eb6"
   }
  }
 },
 "nbformat": 4,
 "nbformat_minor": 2
}
