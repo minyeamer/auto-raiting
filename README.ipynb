{
 "cells": [
  {
   "cell_type": "markdown",
   "metadata": {},
   "source": [
    "# [쇼핑몰 리뷰 평점 분류 경진대회](https://dacon.io/competitions/official/235938/overview/description)\n",
    "- [Load Data](#load-data)\n",
    "- [Data Augmentation](#data-augmentation)\n",
    "- [Data Preprocess](#data-preprocess)\n",
    "- [Modeling](#modeling)\n",
    "- [Train](#train)\n",
    "- [Evaluate](#evaluate)\n",
    "- [Predict](#predict)\n",
    "- [Submission](#submission)"
   ]
  },
  {
   "cell_type": "code",
   "execution_count": null,
   "metadata": {},
   "outputs": [],
   "source": [
    "import warnings\n",
    "warnings.filterwarnings(\"ignore\")\n",
    "\n",
    "import numpy as np\n",
    "import pandas as pd\n",
    "import matplotlib.pyplot as plt\n",
    "import seaborn as sns\n",
    "from typing import Dict, List, Set, Callable, Optional"
   ]
  },
  {
   "cell_type": "code",
   "execution_count": null,
   "metadata": {},
   "outputs": [],
   "source": [
    "import random\n",
    "import os\n",
    "\n",
    "def seed_everything(seed):\n",
    "    random.seed(seed)\n",
    "    os.environ['PYTHONHASHSEED'] = str(seed)\n",
    "    np.random.seed(seed)\n",
    "\n",
    "seed_everything(42)"
   ]
  },
  {
   "cell_type": "markdown",
   "metadata": {},
   "source": [
    "## Load Data"
   ]
  },
  {
   "cell_type": "code",
   "execution_count": null,
   "metadata": {},
   "outputs": [
    {
     "name": "stdout",
     "output_type": "stream",
     "text": [
      "(25000, 3)\n"
     ]
    },
    {
     "data": {
      "text/html": [
       "<div>\n",
       "<style scoped>\n",
       "    .dataframe tbody tr th:only-of-type {\n",
       "        vertical-align: middle;\n",
       "    }\n",
       "\n",
       "    .dataframe tbody tr th {\n",
       "        vertical-align: top;\n",
       "    }\n",
       "\n",
       "    .dataframe thead th {\n",
       "        text-align: right;\n",
       "    }\n",
       "</style>\n",
       "<table border=\"1\" class=\"dataframe\">\n",
       "  <thead>\n",
       "    <tr style=\"text-align: right;\">\n",
       "      <th></th>\n",
       "      <th>id</th>\n",
       "      <th>reviews</th>\n",
       "      <th>target</th>\n",
       "    </tr>\n",
       "  </thead>\n",
       "  <tbody>\n",
       "    <tr>\n",
       "      <th>0</th>\n",
       "      <td>0</td>\n",
       "      <td>조아요 처음구입 싸게햇어요</td>\n",
       "      <td>2</td>\n",
       "    </tr>\n",
       "    <tr>\n",
       "      <th>1</th>\n",
       "      <td>1</td>\n",
       "      <td>생각보다 잘 안돼요 매지 바른지 하루밖에 안됐는데ㅠㅠ 25천원가량 주고 사기 너무 ...</td>\n",
       "      <td>1</td>\n",
       "    </tr>\n",
       "    <tr>\n",
       "      <th>2</th>\n",
       "      <td>2</td>\n",
       "      <td>디자인은괜찮은데 상품이 금이가서 교환했는데 두번째받은상품도 까져있고 안쪽에 금이가져...</td>\n",
       "      <td>2</td>\n",
       "    </tr>\n",
       "    <tr>\n",
       "      <th>3</th>\n",
       "      <td>3</td>\n",
       "      <td>기전에 이 제품말고 이마트 트레이더스에서만 팔던 프리미엄 제품을 사용했었습니다. 샘...</td>\n",
       "      <td>2</td>\n",
       "    </tr>\n",
       "    <tr>\n",
       "      <th>4</th>\n",
       "      <td>4</td>\n",
       "      <td>튼튼하고 손목을 잘 받쳐주네요~</td>\n",
       "      <td>5</td>\n",
       "    </tr>\n",
       "  </tbody>\n",
       "</table>\n",
       "</div>"
      ],
      "text/plain": [
       "   id                                            reviews  target\n",
       "0   0                                     조아요 처음구입 싸게햇어요       2\n",
       "1   1  생각보다 잘 안돼요 매지 바른지 하루밖에 안됐는데ㅠㅠ 25천원가량 주고 사기 너무 ...       1\n",
       "2   2  디자인은괜찮은데 상품이 금이가서 교환했는데 두번째받은상품도 까져있고 안쪽에 금이가져...       2\n",
       "3   3  기전에 이 제품말고 이마트 트레이더스에서만 팔던 프리미엄 제품을 사용했었습니다. 샘...       2\n",
       "4   4                                  튼튼하고 손목을 잘 받쳐주네요~       5"
      ]
     },
     "metadata": {},
     "output_type": "display_data"
    }
   ],
   "source": [
    "train = pd.read_csv('./data/train.csv')\n",
    "test = pd.read_csv('./data/test.csv')\n",
    "submission = pd.read_csv('./data/sample_submission.csv')\n",
    "print(train.shape)\n",
    "train.head()"
   ]
  },
  {
   "cell_type": "code",
   "execution_count": null,
   "metadata": {},
   "outputs": [
    {
     "data": {
      "image/png": "[encoded data removed]",
      "text/plain": [
       "<Figure size 432x288 with 1 Axes>"
      ]
     },
     "metadata": {
      "needs_background": "light"
     },
     "output_type": "display_data"
    }
   ],
   "source": [
    "sns.set_style('whitegrid')\n",
    "sns.countplot(data=train, x='target')\n",
    "plt.show()"
   ]
  },
  {
   "cell_type": "markdown",
   "metadata": {},
   "source": [
    "평점 별 리뷰 수에 대한 시각화 결과 라벨 간 데이터 불균형이 존재하는 것을 확인   \n",
    "데이터 증강을 통해 각 평점 간 비율을 맞춰야할 것이라 판단"
   ]
  },
  {
   "cell_type": "markdown",
   "metadata": {},
   "source": [
    "## Data Augmentation\n",
    "- 초기엔 googletrans를 통한 역번역을 시도했지만, 실제 웹에서 확인해본 결과와 달리 오번역이 많음\n",
    "- NLPAUG 라이브러리도 시도하려 했지만, 한국어를 지원하지 않는 문제로 번역이 불가피함을 느낌\n",
    "- googletrans 번역의 대안으로 API 및 웹 스크래핑을 활용한 번역을 시도,   \n",
    "  구글 번역의 경우 셀레니움 환경에서도 동일한 오번역이 발생하는 문제로 파파고를 활용했고 유의미한 결과를 확인\n",
    "- 다만, 크롤링의 경우 번역 결과를 확인하기 위해 딜레이를 줘야해서 시간의 소요가 클 것으로 예상,   \n",
    "  네이버 클라우드 크레딧으로 감당가능한 범위 내에서 파파고 API를 활용\n",
    "\n",
    "### Process\n",
    "1. 파파고 API 및 웹 스크래핑을 활용해 한글 리뷰를 영어로 변환한 데이터프레임 생성\n",
    "2. NLPAUG 라이브러리의 동의어 변형 기법을 활용해 랜덤한 문장을 필요한 수만큼 증강\n",
    "3. 증강된 영문을 다시 파파고 API와 웹 스크래핑을 통해 역번역하여 리뷰 데이터에 추가"
   ]
  },
  {
   "cell_type": "code",
   "execution_count": null,
   "metadata": {},
   "outputs": [],
   "source": [
    "import re\n",
    "import nlpaug.augmenter.word as naw\n",
    "\n",
    "from webdriver_manager.chrome import ChromeDriverManager\n",
    "from selenium import webdriver\n",
    "from selenium.webdriver.chrome.service import Service\n",
    "from selenium.webdriver.common.by import By\n",
    "import urllib\n",
    "import time\n",
    "from tqdm.notebook import tqdm"
   ]
  },
  {
   "cell_type": "code",
   "execution_count": null,
   "metadata": {},
   "outputs": [],
   "source": [
    "service = Service(executable_path=ChromeDriverManager().install())\n",
    "driver = webdriver.Chrome(service=service)\n",
    "\n",
    "src, dest = 'ko', 'en'\n",
    "translate_url = f'https://papago.naver.com/?sk={src}&tk={dest}'\n",
    "train['translated'] = None\n",
    "translated, errors = list(), list()\n",
    "\n",
    "driver.get(translate_url)\n",
    "time.sleep(3)\n",
    "\n",
    "for i, review in enumerate(tqdm(train['reviews'])):\n",
    "    try:\n",
    "        driver.find_element(By.ID, 'txtSource').clear()\n",
    "        driver.find_element(By.ID, 'txtSource').send_keys(review)\n",
    "        time.sleep(np.sqrt(np.log(len(review)))+1)\n",
    "        train['translated'][i] = driver.find_element(By.ID, 'txtTarget').text\n",
    "    except:\n",
    "        errors.append(i)\n",
    "\n",
    "driver.close()"
   ]
  },
  {
   "cell_type": "code",
   "execution_count": null,
   "metadata": {},
   "outputs": [
    {
     "name": "stdout",
     "output_type": "stream",
     "text": [
      "80\n"
     ]
    }
   ],
   "source": [
    "sum(train['reviews'].isna())"
   ]
  },
  {
   "cell_type": "markdown",
   "metadata": {},
   "source": [
    "크롤링 중 딜레이가 충분하지 않아 이전에 번역된 문장이 저장되거나, 이모티콘 등으로 인해 번역이 올바르게 진행되지 않은 경우를 확인   \n",
    "해당하는 행들을 추출하여 파파고 API를 통해 한영 번역 시도"
   ]
  },
  {
   "cell_type": "code",
   "execution_count": null,
   "metadata": {},
   "outputs": [],
   "source": [
    "def papago_translate(df: pd.DataFrame, source_col: str, target_col: str,\n",
    "                    source='ko', target='en', indices: Optional[List[int]]=None) -> pd.DataFrame:\n",
    "\n",
    "    headers = {\n",
    "    'X-NCP-APIGW-API-KEY-ID': 'YOUR_CLIENT_ID',\n",
    "    'X-NCP-APIGW-API-KEY': 'YOUR_CLIENT_SECRET'\n",
    "    }\n",
    "    url = 'https://naveropenapi.apigw.ntruss.com/nmt/v1/translation'\n",
    "\n",
    "    data = df.iloc[indices].copy() if indices else df.copy()\n",
    "    indices = data.index.tolist() if not indices else indices\n",
    "    sentences = data[source_col].tolist()\n",
    "    errors = dict()\n",
    "\n",
    "    for idx, sentence in tqdm(zip(indices, sentences), total=len(sentences)):\n",
    "        params = f'source={source}&target={target}&text=' + urllib.parse.quote(sentence)\n",
    "        request = urllib.request.Request(url, headers=headers)\n",
    "        response = urllib.request.urlopen(request, data=params.encode('utf-8'))\n",
    "        rescode = response.getcode()\n",
    "        if rescode == 200:\n",
    "            response_body = response.read().decode('utf-8')\n",
    "            translated = re.search('\"translatedText\":\"(.+?)\"', response_body).group(1)\n",
    "            data[target_col][idx] = translated.encode('utf-8', 'ignore').decode('utf-8').strip()\n",
    "        else:\n",
    "            errors[idx] = rescode\n",
    "\n",
    "    if errors:\n",
    "        print('Errors occured:', errors)\n",
    "\n",
    "    return data"
   ]
  },
  {
   "cell_type": "code",
   "execution_count": null,
   "metadata": {},
   "outputs": [],
   "source": [
    "duplicated_rows = train['translated'].duplicated()\n",
    "null_rows = train['translated'].isna()\n",
    "short_rows = train['translated'].str.len() < 15\n",
    "\n",
    "untranslated = train[duplicated_rows|null_rows|short_rows].index.tolist()\n",
    "train.iloc[untranslated] = papago_translate(train, 'reviews', 'translated', indices=untranslated)"
   ]
  },
  {
   "cell_type": "code",
   "execution_count": null,
   "metadata": {},
   "outputs": [],
   "source": [
    "train['translated'] = train['translated'].apply(lambda x: re.sub('[^A-Za-z0-9\\'\\\"\\.,!\\?\\^:\\(\\)~\\s]','',x).strip())\n",
    "train['translated'] = train['translated'].apply(lambda x: re.sub('\\.{3,}','...',x))\n",
    "train['translated'] = train['translated'].apply(lambda x: re.sub('\\s+',' ',x))"
   ]
  },
  {
   "cell_type": "markdown",
   "metadata": {},
   "source": [
    "번역 결과를 검증하기 위해 의미없는 문자를 모두 제거"
   ]
  },
  {
   "cell_type": "code",
   "execution_count": null,
   "metadata": {},
   "outputs": [
    {
     "data": {
      "text/html": [
       "<div>\n",
       "<style scoped>\n",
       "    .dataframe tbody tr th:only-of-type {\n",
       "        vertical-align: middle;\n",
       "    }\n",
       "\n",
       "    .dataframe tbody tr th {\n",
       "        vertical-align: top;\n",
       "    }\n",
       "\n",
       "    .dataframe thead th {\n",
       "        text-align: right;\n",
       "    }\n",
       "</style>\n",
       "<table border=\"1\" class=\"dataframe\">\n",
       "  <thead>\n",
       "    <tr style=\"text-align: right;\">\n",
       "      <th></th>\n",
       "      <th>id</th>\n",
       "      <th>reviews</th>\n",
       "      <th>target</th>\n",
       "      <th>translated</th>\n",
       "    </tr>\n",
       "  </thead>\n",
       "  <tbody>\n",
       "    <tr>\n",
       "      <th>10548</th>\n",
       "      <td>10548</td>\n",
       "      <td>굿 저렴해요 ㅂㄷㄴㄱㅈㄴㄷㅇㄴㅂㅈㄱㅈㄷㅎㅇㅈㅂㄷㄹㅇㅅㅇㄷㄱㄴㄱㅈㄷㅅㄴㅇㅈㄱㄷㄱㄷㅅㅈ...</td>\n",
       "      <td>5</td>\n",
       "      <td></td>\n",
       "    </tr>\n",
       "    <tr>\n",
       "      <th>20137</th>\n",
       "      <td>20137</td>\n",
       "      <td>잘받았습니다 ㄷㄱㄷㄴㅇ짖ㄷㄱㅅㄱㅇㅈ은ㄱㅎㅂ지ㅡㄴㅇㄴㅅㄱㄷㅂㅈㅅㄱㄷㅇㄷㄴㄱㄷㅈㄱㄷ림ㅂ...</td>\n",
       "      <td>2</td>\n",
       "      <td></td>\n",
       "    </tr>\n",
       "    <tr>\n",
       "      <th>20777</th>\n",
       "      <td>20777</td>\n",
       "      <td>ㅂㄷㄱㄷㄱ ㄴㅋㅌㄱㅈㅋㄷㅂㄷㄱㅈㄷㅂㄷㅂㅈㅂㄷㅂㄷㄱㅈ극ㄷㄱㄷㅂㄷㅂㅈㄱㄷㄱㅈㅂㄷㄱㅈ긎ㄱ...</td>\n",
       "      <td>5</td>\n",
       "      <td></td>\n",
       "    </tr>\n",
       "    <tr>\n",
       "      <th>21034</th>\n",
       "      <td>21034</td>\n",
       "      <td>ㅎㅇㄴㅁㅎㅇㄴㅁㅎㅇㄴㅁ ㅎㅇㄴㅁㅎㅁㄴ애ㅔ혀ㅓㅔ;ㅇㅁ로ㅕㅐ;ㄹㅇ마ㅓ;힘ㅇ넣ㅁㄴㅇㅎㅇㄴ...</td>\n",
       "      <td>5</td>\n",
       "      <td></td>\n",
       "    </tr>\n",
       "    <tr>\n",
       "      <th>21117</th>\n",
       "      <td>21117</td>\n",
       "      <td>ㅂㄷ로ㅗㅜㅜㅡ</td>\n",
       "      <td>2</td>\n",
       "      <td></td>\n",
       "    </tr>\n",
       "    <tr>\n",
       "      <th>22916</th>\n",
       "      <td>22916</td>\n",
       "      <td>ㄱㆍㄷㄱㄴㅈㄱㅅㅈㅂㄴㄷㅂ늡ㄴ ㄴㅈㅂㄴㄷㄱㆍㄷㅂㄴㅈㅂㄴㄷ곡ㄴㅈㅂㄴㄷㅂㆍㄷㄱㆍㄷ악ㄴㄷㄱ...</td>\n",
       "      <td>2</td>\n",
       "      <td></td>\n",
       "    </tr>\n",
       "  </tbody>\n",
       "</table>\n",
       "</div>"
      ],
      "text/plain": [
       "          id                                            reviews  target  \\\n",
       "10548  10548  굿 저렴해요 ㅂㄷㄴㄱㅈㄴㄷㅇㄴㅂㅈㄱㅈㄷㅎㅇㅈㅂㄷㄹㅇㅅㅇㄷㄱㄴㄱㅈㄷㅅㄴㅇㅈㄱㄷㄱㄷㅅㅈ...       5   \n",
       "20137  20137  잘받았습니다 ㄷㄱㄷㄴㅇ짖ㄷㄱㅅㄱㅇㅈ은ㄱㅎㅂ지ㅡㄴㅇㄴㅅㄱㄷㅂㅈㅅㄱㄷㅇㄷㄴㄱㄷㅈㄱㄷ림ㅂ...       2   \n",
       "20777  20777  ㅂㄷㄱㄷㄱ ㄴㅋㅌㄱㅈㅋㄷㅂㄷㄱㅈㄷㅂㄷㅂㅈㅂㄷㅂㄷㄱㅈ극ㄷㄱㄷㅂㄷㅂㅈㄱㄷㄱㅈㅂㄷㄱㅈ긎ㄱ...       5   \n",
       "21034  21034  ㅎㅇㄴㅁㅎㅇㄴㅁㅎㅇㄴㅁ ㅎㅇㄴㅁㅎㅁㄴ애ㅔ혀ㅓㅔ;ㅇㅁ로ㅕㅐ;ㄹㅇ마ㅓ;힘ㅇ넣ㅁㄴㅇㅎㅇㄴ...       5   \n",
       "21117  21117                                            ㅂㄷ로ㅗㅜㅜㅡ       2   \n",
       "22916  22916  ㄱㆍㄷㄱㄴㅈㄱㅅㅈㅂㄴㄷㅂ늡ㄴ ㄴㅈㅂㄴㄷㄱㆍㄷㅂㄴㅈㅂㄴㄷ곡ㄴㅈㅂㄴㄷㅂㆍㄷㄱㆍㄷ악ㄴㄷㄱ...       2   \n",
       "\n",
       "      translated  \n",
       "10548             \n",
       "20137             \n",
       "20777             \n",
       "21034             \n",
       "21117             \n",
       "22916             "
      ]
     },
     "metadata": {},
     "output_type": "display_data"
    }
   ],
   "source": [
    "train[train['translated'].str.len() <= 5]"
   ]
  },
  {
   "cell_type": "markdown",
   "metadata": {},
   "source": [
    "검증 후에도 여전히 번역되지 않는 리뷰를 확인했을 때, 노이즈 데이터로 이루어진 것을 확인하고 해당 행들을 제거"
   ]
  },
  {
   "cell_type": "code",
   "execution_count": null,
   "metadata": {},
   "outputs": [
    {
     "name": "stdout",
     "output_type": "stream",
     "text": [
      "<class 'pandas.core.frame.DataFrame'>\n",
      "Int64Index: 24994 entries, 0 to 24999\n",
      "Data columns (total 4 columns):\n",
      " #   Column      Non-Null Count  Dtype \n",
      "---  ------      --------------  ----- \n",
      " 0   id          24994 non-null  int64 \n",
      " 1   reviews     24994 non-null  object\n",
      " 2   target      24994 non-null  int64 \n",
      " 3   translated  24994 non-null  object\n",
      "dtypes: int64(2), object(2)\n",
      "memory usage: 976.3+ KB\n"
     ]
    }
   ],
   "source": [
    "train = train[train['translated'].str.len() > 5]\n",
    "train.info()"
   ]
  },
  {
   "cell_type": "code",
   "execution_count": null,
   "metadata": {},
   "outputs": [
    {
     "data": {
      "text/plain": [
       "5    9997\n",
       "2    7997\n",
       "1    4500\n",
       "4    2500\n",
       "Name: target, dtype: int64"
      ]
     },
     "metadata": {},
     "output_type": "display_data"
    }
   ],
   "source": [
    "train['target'].value_counts()"
   ]
  },
  {
   "cell_type": "markdown",
   "metadata": {},
   "source": [
    "가장 수가 많은 평점 5점 리뷰 수에 맞춰 역번역할 문장을 수집 후 파파고 API를 통해 번역   \n",
    "2배 이상의 증강이 필요할 경우 우선적으로 NLPAUG 라이브러리의 동의어 변환 기법을 적용"
   ]
  },
  {
   "cell_type": "code",
   "execution_count": null,
   "metadata": {},
   "outputs": [],
   "source": [
    "def add_synonyms(sentences: Set[str], num_aug: int) -> List[str]:\n",
    "    aug = naw.SynonymAug()\n",
    "    while len(sentences) < num_aug:\n",
    "        augmented = [aug.augment(sentence)[0] for sentence in sentences]\n",
    "        sentences.update(set(augmented))\n",
    "    return random.sample(sentences, num_aug)\n",
    "\n",
    "def nlpaug(sentences: List[str], num_aug: int) -> List[str]:\n",
    "    sentences = set(sentences)\n",
    "    try:\n",
    "        return random.sample(sentences, num_aug)\n",
    "    except ValueError:\n",
    "        return add_synonyms(sentences, num_aug)"
   ]
  },
  {
   "cell_type": "code",
   "execution_count": null,
   "metadata": {},
   "outputs": [],
   "source": [
    "aug_df = pd.DataFrame({'translated':list(),'target':list()})\n",
    "counts = train['target'].value_counts()\n",
    "\n",
    "for target in train['target'].unique():\n",
    "    target_df = train[train['target'] == target]\n",
    "    num_aug = counts.max() - counts[target]\n",
    "    result = nlpaug(target_df['translated'].tolist(), num_aug)\n",
    "\n",
    "    if result:\n",
    "        result_df = pd.DataFrame({'translated':result,'target':target})\n",
    "        aug_df = pd.concat([aug_df,result_df], ignore_index=True).reset_index(drop=True)\n",
    "\n",
    "aug_df['reviews'] = None\n",
    "aug_df = papago_translate(aug_df, 'translated', 'reviews', source='en', target='ko')"
   ]
  },
  {
   "cell_type": "code",
   "execution_count": null,
   "metadata": {},
   "outputs": [
    {
     "name": "stdout",
     "output_type": "stream",
     "text": [
      "(39988, 3)\n"
     ]
    },
    {
     "data": {
      "text/plain": [
       "2.0    9997\n",
       "1.0    9997\n",
       "5.0    9997\n",
       "4.0    9997\n",
       "Name: target, dtype: int64"
      ]
     },
     "metadata": {},
     "output_type": "display_data"
    }
   ],
   "source": [
    "train = pd.concat([train,aug_df], ignore_index=True).drop('translated',axis=1)\n",
    "print(train.shape)\n",
    "train['target'].value_counts()"
   ]
  },
  {
   "cell_type": "code",
   "execution_count": null,
   "metadata": {},
   "outputs": [
    {
     "data": {
      "image/png": "[encoded data removed]",
      "text/plain": [
       "<Figure size 432x288 with 1 Axes>"
      ]
     },
     "metadata": {
      "needs_background": "light"
     },
     "output_type": "display_data"
    }
   ],
   "source": [
    "sns.set_style('whitegrid')\n",
    "sns.countplot(data=train, x='target')\n",
    "plt.show()"
   ]
  },
  {
   "cell_type": "markdown",
   "metadata": {},
   "source": [
    "평점 별 데이터가 균등하게 분포된 것을 확인"
   ]
  },
  {
   "cell_type": "code",
   "execution_count": null,
   "metadata": {},
   "outputs": [],
   "source": [
    "train['id'] = train.index\n",
    "train['target'] = train['target'].astype('int64')\n",
    "train.to_csv('./data/train_aug.csv', index=False)\n",
    "train = pd.read_csv('./data/train_aug.csv')"
   ]
  },
  {
   "cell_type": "markdown",
   "metadata": {},
   "source": [
    "## Data Preprocess"
   ]
  },
  {
   "cell_type": "code",
   "execution_count": null,
   "metadata": {},
   "outputs": [],
   "source": [
    "import re\n",
    "from hanspell import spell_checker\n",
    "from soynlp.normalizer import emoticon_normalize, only_text"
   ]
  },
  {
   "cell_type": "code",
   "execution_count": null,
   "metadata": {},
   "outputs": [],
   "source": [
    "def preprocess_sentences(df: pd.DataFrame, column: str) -> pd.DataFrame:\n",
    "    data = df.copy()\n",
    "    errors = list()\n",
    "\n",
    "    data[column] = data[column].apply(lambda x: re.sub('\\.*!+', '!', x))\n",
    "    data[column] = data[column].apply(lambda x: re.sub('\\.*\\?+', '?', x))\n",
    "    data[column] = data[column].apply(lambda x: re.sub(',+', ',', x))\n",
    "    data[column] = data[column].apply(lambda x: re.sub('(,\\.|\\.,)', '..', x))\n",
    "    data[column] = data[column].apply(lambda x: re.sub('\\.{2,}', '...', x))\n",
    "    data[column] = data[column].apply(lambda x: re.sub('[^A-Za-z0-9ㄱ-ㅎㅏ-ㅣ가-힣\\s\\[\\]\\.,!\\?\\\"\\']', '', x))\n",
    "    data[column] = data[column].apply(lambda x: emoticon_normalize(only_text(x)))\n",
    "\n",
    "    for i,review in tqdm(zip(data.index.tolist(),data[column].tolist()), total=len(data)):\n",
    "        try:\n",
    "            train[column][i] = spell_checker.check(review).checked\n",
    "        except:\n",
    "            errors.append(i)\n",
    "\n",
    "    return data"
   ]
  },
  {
   "cell_type": "markdown",
   "metadata": {},
   "source": [
    "문장에 연속되는 문자를 제거하고 최대한 일반적인 표현으로 변환"
   ]
  },
  {
   "cell_type": "code",
   "execution_count": null,
   "metadata": {},
   "outputs": [],
   "source": [
    "train = preprocess_sentences(train, 'reviews')\n",
    "test = preprocess_sentences(test, 'reviews')\n",
    "train.to_csv('./data/train_aug_cleaned.csv', index=False)\n",
    "test.to_csv('./data/test_cleaned.csv', index=False)"
   ]
  },
  {
   "cell_type": "markdown",
   "metadata": {},
   "source": [
    "## Modeling"
   ]
  },
  {
   "cell_type": "code",
   "execution_count": null,
   "metadata": {
    "executionInfo": {
     "elapsed": 5309,
     "status": "ok",
     "timestamp": 1658543026756,
     "user": {
      "displayName": "Myst",
      "userId": "17405133242292037053"
     },
     "user_tz": -540
    },
    "id": "tvmb0hXvATAQ"
   },
   "outputs": [],
   "source": [
    "import torch\n",
    "from transformers import AutoTokenizer, AutoModelForSequenceClassification\n",
    "from transformers import EarlyStoppingCallback, TrainingArguments, Trainer\n",
    "from transformers.tokenization_utils_base import BatchEncoding\n",
    "from transformers.trainer_utils import EvalPrediction\n",
    "from datasets import load_dataset\n",
    "from datasets.arrow_dataset import Dataset\n",
    "from sklearn.metrics import accuracy_score"
   ]
  },
  {
   "cell_type": "code",
   "execution_count": null,
   "metadata": {
    "executionInfo": {
     "elapsed": 8,
     "status": "ok",
     "timestamp": 1658543026757,
     "user": {
      "displayName": "Myst",
      "userId": "17405133242292037053"
     },
     "user_tz": -540
    },
    "id": "njB3IC81ATAT"
   },
   "outputs": [],
   "source": [
    "MAX_LEN = 128\n",
    "VALID_SPLIT = 0.1\n",
    "BATCH_SIZE = 64\n",
    "EPOCHS = 2\n",
    "LEARNING_RATE = 1e-5\n",
    "DR_RATE = 0.3\n",
    "WARMUP_STEPS = 500\n",
    "WEIGHT_DECAY = 0.01\n",
    "METRIC = 'accuracy'\n",
    "\n",
    "device = torch.device('cuda') if torch.cuda.is_available() else torch.device('cpu')\n",
    "# device = torch.device('mps')\n",
    "MODEL_NAME = 'koelectra'\n",
    "MODEL_PATH = 'jaehyeong/koelectra-base-v3-generalized-sentiment-analysis'"
   ]
  },
  {
   "cell_type": "markdown",
   "metadata": {
    "id": "e9LKm4tGATAT"
   },
   "source": [
    "### Load Datasets"
   ]
  },
  {
   "cell_type": "code",
   "execution_count": null,
   "metadata": {
    "colab": {
     "base_uri": "https://localhost:8080/",
     "height": 224
    },
    "executionInfo": {
     "elapsed": 1353,
     "status": "ok",
     "timestamp": 1658543039307,
     "user": {
      "displayName": "Myst",
      "userId": "17405133242292037053"
     },
     "user_tz": -540
    },
    "id": "blQELVRuATAT",
    "outputId": "4d44b0ea-b4a8-4c8b-ff27-4ea059efb6fc"
   },
   "outputs": [
    {
     "name": "stdout",
     "output_type": "stream",
     "text": [
      "(39988, 3)\n"
     ]
    },
    {
     "data": {
      "text/html": [
       "<div>\n",
       "<style scoped>\n",
       "    .dataframe tbody tr th:only-of-type {\n",
       "        vertical-align: middle;\n",
       "    }\n",
       "\n",
       "    .dataframe tbody tr th {\n",
       "        vertical-align: top;\n",
       "    }\n",
       "\n",
       "    .dataframe thead th {\n",
       "        text-align: right;\n",
       "    }\n",
       "</style>\n",
       "<table border=\"1\" class=\"dataframe\">\n",
       "  <thead>\n",
       "    <tr style=\"text-align: right;\">\n",
       "      <th></th>\n",
       "      <th>id</th>\n",
       "      <th>reviews</th>\n",
       "      <th>target</th>\n",
       "    </tr>\n",
       "  </thead>\n",
       "  <tbody>\n",
       "    <tr>\n",
       "      <th>0</th>\n",
       "      <td>0</td>\n",
       "      <td>좋아요 처음 구입 싸게 했어요</td>\n",
       "      <td>2</td>\n",
       "    </tr>\n",
       "    <tr>\n",
       "      <th>1</th>\n",
       "      <td>1</td>\n",
       "      <td>생각보다 잘 안돼요 매지 바른지 하루밖에 안됐는데ㅠㅠ 25천 원가량 주고 사기 너무...</td>\n",
       "      <td>1</td>\n",
       "    </tr>\n",
       "    <tr>\n",
       "      <th>2</th>\n",
       "      <td>2</td>\n",
       "      <td>디자인은 괜찮은데 상품이 금이 가서 교환했는데 두 번째 받은 상품도 까져있고 안쪽에...</td>\n",
       "      <td>2</td>\n",
       "    </tr>\n",
       "    <tr>\n",
       "      <th>3</th>\n",
       "      <td>3</td>\n",
       "      <td>기전에 이 제품 말고 이마트 트레이더스에서만 팔던 프리미엄 제품을 사용했었습니다. ...</td>\n",
       "      <td>2</td>\n",
       "    </tr>\n",
       "    <tr>\n",
       "      <th>4</th>\n",
       "      <td>4</td>\n",
       "      <td>튼튼하고 손목을 잘 받쳐주네요</td>\n",
       "      <td>5</td>\n",
       "    </tr>\n",
       "  </tbody>\n",
       "</table>\n",
       "</div>"
      ],
      "text/plain": [
       "   id                                            reviews  target\n",
       "0   0                                   좋아요 처음 구입 싸게 했어요       2\n",
       "1   1  생각보다 잘 안돼요 매지 바른지 하루밖에 안됐는데ㅠㅠ 25천 원가량 주고 사기 너무...       1\n",
       "2   2  디자인은 괜찮은데 상품이 금이 가서 교환했는데 두 번째 받은 상품도 까져있고 안쪽에...       2\n",
       "3   3  기전에 이 제품 말고 이마트 트레이더스에서만 팔던 프리미엄 제품을 사용했었습니다. ...       2\n",
       "4   4                                   튼튼하고 손목을 잘 받쳐주네요       5"
      ]
     },
     "metadata": {},
     "output_type": "display_data"
    }
   ],
   "source": [
    "train = pd.read_csv('./data/train_aug_cleaned.csv')\n",
    "LABELS = [1,2,4,5]\n",
    "id2label = {idx:label for idx, label in enumerate(LABELS)}\n",
    "label2id = {label:idx for idx, label in enumerate(LABELS)}\n",
    "print(train.shape)\n",
    "train.head()"
   ]
  },
  {
   "cell_type": "code",
   "execution_count": null,
   "metadata": {
    "colab": {
     "base_uri": "https://localhost:8080/",
     "height": 220,
     "referenced_widgets": [
      "0e473018f7ff4c12bb54903b96a7c70f",
      "4dbcf59370bb4bb28c1bdfb672a66eb1",
      "fcff6c2f68e24c9db752f2d507beb7ae",
      "01c7799a086a41ac88fd14a1d2a7a2ed",
      "5d1effa633814bb2acba02d5c94dff2b",
      "df5a95ac4f7545009f47f33168bdf484",
      "8c9d41d2489a4a5b95baa50db21b9c29",
      "156117c4de1e4062b2eb0c7a8183b4c4",
      "d2c6c8556511404a8b4c3937f58605a9",
      "d6215f58a969400fa60f96b723f65575",
      "7324e98c015d4ba69ea7607b9162eb19",
      "464a16e94c4a4be9ab6cc47e03ba88ab",
      "e9f71c576abe4cdd97bf3a5b9678d333",
      "7241961a51334df4857092ae9bb259b6",
      "f0f19be4b84a49cb8a6519687e25a54b",
      "8c82aac0cde34719b335c309a2ab846e",
      "faca2ced288743b6823b28e1e3aec04a",
      "25de49dd31364ddab693feef9a5166a2",
      "a54711da9cfb46dfade7e3bb424c2a36",
      "d90776f170954e409f1ccdb57aec5d78",
      "e61af0d40cfb416aa2df9c0bbe171048",
      "57c310d676bf413fb87d45ed312285ad",
      "b79a565e2f65467cb4cc480d8b20844b",
      "de50f6fa291e426c90f25ecbb51908c2",
      "708d15fe79ac459eb6dfc9ba4ea9ff38",
      "c50955b69d764957b176fc219e1b3460",
      "94b569c22408418ab34eddc6e6e0c3ff",
      "0b1b18de22f94c8bace481e4c7b510a1",
      "3f627716d44c442592968a080e971088",
      "e196fc04fc8c45c0ab65027cfcabf097",
      "8dcd6f1059bb41d087258ed9c04f4196",
      "9f9f9391649148b8af512c26c7ee2eb3",
      "5f0e8362e2db4cf7b24b4ec36b1e8391",
      "c7c19acf84bb499bb49430ff56abae47",
      "6286daeba2574045baa188053f66293e",
      "6fee6d14950240af9cd49abae0dd79a3",
      "a35127d9ced140a58fe46b295e3c0e18",
      "59bbef7c8df44e43b9c9ae5a68d6eaea",
      "fb405f357475412da97839c4365d1538",
      "f6783fe0d7034186bef8004dd66cf094",
      "df6ab1736bfe4d3a92043dd5faa3f701",
      "073febfd6fc243489eb109e2b11cf182",
      "9824190c167640e5b651852f785ff08a",
      "7b6d6be25b8c4e2eb8e9f7e76f7fa91a",
      "77aa2e2621e543b4b30f739645f73087"
     ]
    },
    "executionInfo": {
     "elapsed": 5401,
     "status": "ok",
     "timestamp": 1658543044702,
     "user": {
      "displayName": "Myst",
      "userId": "17405133242292037053"
     },
     "user_tz": -540
    },
    "id": "0q2Zf7C4ATAV",
    "outputId": "6c8071cd-6f2b-4c36-9460-022af515d5bf"
   },
   "outputs": [
    {
     "name": "stdout",
     "output_type": "stream",
     "text": [
      "(22500, 3) (2500, 3) (25000, 2)\n"
     ]
    }
   ],
   "source": [
    "train_dataset = load_dataset('csv', data_files='./data/train_aug_cleaned.csv', split='train')\n",
    "test_dataset = load_dataset('csv', data_files='./data/test_cleaned.csv', split='train')\n",
    "train_dataset = train_dataset.train_test_split(test_size=VALID_SPLIT)\n",
    "clear_output()\n",
    "print(train_dataset['train'].shape, train_dataset['test'].shape, test_dataset.shape)"
   ]
  },
  {
   "cell_type": "markdown",
   "metadata": {
    "id": "jnjLsYUfATAW"
   },
   "source": [
    "### Tokenization"
   ]
  },
  {
   "cell_type": "code",
   "execution_count": null,
   "metadata": {
    "executionInfo": {
     "elapsed": 11,
     "status": "ok",
     "timestamp": 1658543044703,
     "user": {
      "displayName": "Myst",
      "userId": "17405133242292037053"
     },
     "user_tz": -540
    },
    "id": "h00avBx4ATAW"
   },
   "outputs": [],
   "source": [
    "def tokenize(model_path: str) -> Callable[[Dataset],BatchEncoding]:\n",
    "    tokenizer = AutoTokenizer.from_pretrained(model_path, problem_type='multi_label_classification')\n",
    "    clear_output()\n",
    "    return lambda examples: tokenizer(examples['reviews'], max_length=MAX_LEN, padding='max_length', truncation=True)\n",
    "\n",
    "def one_hot(examples: Dataset) -> Dict[str,np.ndarray]:\n",
    "    return {'labels':np.eye(len(LABELS))[label2id[examples['target']]]}\n",
    "\n",
    "def preprocess(data: Dataset, model_path: str, labeled=True) -> Dataset:\n",
    "    encoded = data.map(tokenize(model_path), batched=True, remove_columns=['id','reviews'], load_from_cache_file=False)\n",
    "    encoded = encoded.map(one_hot, remove_columns=['target'], load_from_cache_file=False) if labeled else encoded\n",
    "    encoded.set_format('torch')\n",
    "    return encoded"
   ]
  },
  {
   "cell_type": "markdown",
   "metadata": {
    "id": "2lJlDLKnATAX"
   },
   "source": [
    "### Load Model"
   ]
  },
  {
   "cell_type": "code",
   "execution_count": null,
   "metadata": {
    "executionInfo": {
     "elapsed": 9,
     "status": "ok",
     "timestamp": 1658543044703,
     "user": {
      "displayName": "Myst",
      "userId": "17405133242292037053"
     },
     "user_tz": -540
    },
    "id": "qGnmTZ9PATAX"
   },
   "outputs": [],
   "source": [
    "def model(model_path: str) -> AutoModelForSequenceClassification:\n",
    "    model = AutoModelForSequenceClassification.from_pretrained(\n",
    "        model_path,\n",
    "        problem_type='multi_label_classification',\n",
    "        ignore_mismatched_sizes=True,\n",
    "        num_labels=len(LABELS),\n",
    "        id2label=id2label,\n",
    "        label2id=label2id,).to(device)\n",
    "    clear_output()\n",
    "\n",
    "    return model"
   ]
  },
  {
   "cell_type": "code",
   "execution_count": null,
   "metadata": {
    "executionInfo": {
     "elapsed": 9,
     "status": "ok",
     "timestamp": 1658543044703,
     "user": {
      "displayName": "Myst",
      "userId": "17405133242292037053"
     },
     "user_tz": -540
    },
    "id": "mlnTBZG_ATAY"
   },
   "outputs": [],
   "source": [
    "def compute_metrics(p: EvalPrediction) -> Dict[str,float]:\n",
    "    predictions, labels = p\n",
    "    y_pred = np.argmax(predictions, axis=1)\n",
    "    y_true = np.argmax(labels, axis=1)\n",
    "    return {\n",
    "        'accuracy': accuracy_score(y_true=y_true, y_pred=y_pred),\n",
    "    }"
   ]
  },
  {
   "cell_type": "markdown",
   "metadata": {
    "id": "AIzv4EyYATAY"
   },
   "source": [
    "### Load Trainer"
   ]
  },
  {
   "cell_type": "code",
   "execution_count": null,
   "metadata": {
    "executionInfo": {
     "elapsed": 10,
     "status": "ok",
     "timestamp": 1658543044704,
     "user": {
      "displayName": "Myst",
      "userId": "17405133242292037053"
     },
     "user_tz": -540
    },
    "id": "kIwjDJbiATAZ"
   },
   "outputs": [],
   "source": [
    "def make_dirs(name: str) -> Dict[str,str]:\n",
    "    required_dirs = {\n",
    "        'root':'./saved','model_root':'./saved/models','model_dir':f'./saved/models/{name}',\n",
    "        'logging_root':'./saved/logger','logging_dir':f'./saved/logger/{name}'}\n",
    "    for dir in required_dirs.values():\n",
    "        if not os.path.isdir(dir):\n",
    "            os.mkdir(dir)\n",
    "    return required_dirs\n",
    "\n",
    "def training_args(model_name: str) -> TrainingArguments:\n",
    "    required_dirs = make_dirs(model_name)\n",
    "    return TrainingArguments(\n",
    "        output_dir=required_dirs['model_dir'],\n",
    "        evaluation_strategy='epoch',\n",
    "        save_strategy='epoch',\n",
    "        num_train_epochs=EPOCHS,\n",
    "        per_device_train_batch_size=BATCH_SIZE,\n",
    "        per_device_eval_batch_size=BATCH_SIZE,\n",
    "        learning_rate=LEARNING_RATE,\n",
    "        warmup_steps=WARMUP_STEPS,\n",
    "        weight_decay=WEIGHT_DECAY,\n",
    "        logging_dir=required_dirs['logging_dir'],\n",
    "        load_best_model_at_end=True,\n",
    "        metric_for_best_model=METRIC,\n",
    "    )\n",
    "\n",
    "def trainer(dataset: Dataset, model_name: str, model_path: str, labeled=True) -> Trainer:\n",
    "    data_loader = preprocess(dataset, model_path, labeled)\n",
    "\n",
    "    return Trainer(\n",
    "        model=model(model_path),\n",
    "        args=training_args(model_name),\n",
    "        train_dataset=data_loader['train'],\n",
    "        eval_dataset=data_loader['test'],\n",
    "        compute_metrics=compute_metrics,\n",
    "        callbacks = [EarlyStoppingCallback(3)],\n",
    "    )"
   ]
  },
  {
   "cell_type": "code",
   "execution_count": null,
   "metadata": {
    "id": "-8u8Cvlqni4H"
   },
   "outputs": [],
   "source": [
    "koelectra_trainer = trainer(train_dataset, MODEL_NAME, MODEL_PATH)"
   ]
  },
  {
   "cell_type": "markdown",
   "metadata": {
    "id": "4qmLg_WdATAa"
   },
   "source": [
    "## Train"
   ]
  },
  {
   "cell_type": "code",
   "execution_count": null,
   "metadata": {
    "colab": {
     "base_uri": "https://localhost:8080/",
     "height": 624
    },
    "executionInfo": {
     "elapsed": 3121284,
     "status": "ok",
     "timestamp": 1658542115440,
     "user": {
      "displayName": "Myst",
      "userId": "17405133242292037053"
     },
     "user_tz": -540
    },
    "id": "sVXMFVLHm8mA",
    "outputId": "b065712e-c0ce-43dd-d4ad-5b6739db39a4"
   },
   "outputs": [],
   "source": [
    "koelectra_trainer.train()"
   ]
  },
  {
   "cell_type": "markdown",
   "metadata": {
    "id": "e658-v7dAeQj"
   },
   "source": [
    "## Evaluate"
   ]
  },
  {
   "cell_type": "code",
   "execution_count": null,
   "metadata": {
    "colab": {
     "base_uri": "https://localhost:8080/",
     "height": 193
    },
    "executionInfo": {
     "elapsed": 54305,
     "status": "ok",
     "timestamp": 1658542170250,
     "user": {
      "displayName": "Myst",
      "userId": "17405133242292037053"
     },
     "user_tz": -540
    },
    "id": "p4YkuEiEm-eW",
    "outputId": "fb682091-adcc-4543-ee03-662d988aba52"
   },
   "outputs": [],
   "source": [
    "koelectra_trainer.evaluate()"
   ]
  },
  {
   "cell_type": "markdown",
   "metadata": {
    "id": "Ll3uTl8EATAa"
   },
   "source": [
    "## Predict"
   ]
  },
  {
   "cell_type": "code",
   "execution_count": null,
   "metadata": {
    "colab": {
     "base_uri": "https://localhost:8080/",
     "height": 86,
     "referenced_widgets": [
      "570a6377ece844698b92394ac8be4e60",
      "93a9856b1a5f471b8e387dc2bbd697b5",
      "69aba26fe4f341828ae759a6fe83cbeb",
      "510c9009799644d59bed67f90a5c8509",
      "a77a68dd012c41a5a32df2ce6a88ab8a",
      "6b10309d33f34701b249ebff70cc5c97",
      "34799532bb9e47d3baf85547554b1b32",
      "fb464dfe9d634601875f9ed181aafcd5",
      "ccd25b005c4c4c1b9e18c264f58d944c",
      "20222f01014e4b4b9ebda35b3be8fda7",
      "ba824b8f354e4e45940264082603b3f4",
      "f8de4be9e90c4e49a767b2a52ecf00d7",
      "5d09978176804e93ab485533ac8f9d3e",
      "583459f443024f6caaed8667714a38e2",
      "146e7a690f6a4a92a2155fe2cad8e19f",
      "8d0f0a58dd26482688c12c735681eed9",
      "23e68909424e4e028430bf490816c675",
      "b2138a3e0f044e0d833a3efca2a59286",
      "c84a84f17d49454f81a3a778d2514437",
      "37b02bd6f4fb4ebb8ecf4a754dd2817e",
      "5964ec4c01004eaea823c00ade1cda15",
      "ad02f7adedda496b86f2dea45f838f14",
      "2d285ba638a049f7904b1d8efa605326",
      "ac2060e9ff9046cf9eb12b8b248c658e",
      "5c9ef830691046dfa0aff411624a4c92",
      "fdc997195b90453ea32235fc5ecd2319",
      "7d6e8d53121b4c38ab19d99579a41332",
      "a41f1e645ef344c994eb581be117327b",
      "10b3ddb388674c10b453ae83955cdf43",
      "173b1b4e5e9e4f968399231660a891a4",
      "3f1026d8ee874a05b69221dac64d147b",
      "a25ddab3f02245bcaaa0b8cacd352fb4",
      "8eaf6a7523c646a29093755e42a7a45a",
      "a2b685f1dd204304b3c663b6873ac5ec",
      "c17799c5eb7f49b4beba757161768e12",
      "59f7f1748e4646cd976b9e955f68ff20",
      "0b3c051923b84169bc657a880944c1ed",
      "524721dc40394fd68b03bf52f719ab64",
      "79321ddd10464387822f4efb3844c3da",
      "47971d4d649742f3b4a6083046c1d62f",
      "aa01152f114440b5b614dd71df18876b",
      "3d98297c61ca4246864f56c7722d10af",
      "e79a9d77cd3145f6a9665a5d6c60d0ba",
      "253547de6d1148168cc27fca9d402727",
      "28a399e3e812426185e1c58839a73105",
      "07731a1b18da437e94b80ecc47aec28b",
      "c9915793c18a47e69225ce4ef07eb003",
      "9b7ca3cbea3741bbb730a845bb0e8f7a",
      "1f77131e0d0c4f82ac05e76cb5d37354",
      "7ff41dc97b9c49279df2bc9d9165603d",
      "0a80338ea38d4718957d2910894d3ddb",
      "f515f5b19f334f91add03b4f5e61e9a6",
      "cd5c2aa6084048d6a79ec64bd3654e8b",
      "200593ca20e04a90ab020d29ceeb150d",
      "d11b9836965843a0aea49b5ce3e0d794"
     ]
    },
    "executionInfo": {
     "elapsed": 14938,
     "status": "ok",
     "timestamp": 1658543243183,
     "user": {
      "displayName": "Myst",
      "userId": "17405133242292037053"
     },
     "user_tz": -540
    },
    "id": "fceIoBdf4Smb",
    "outputId": "d3404e53-8a1a-4cea-c4b6-a7b5ed586985"
   },
   "outputs": [],
   "source": [
    "test_dataset = preprocess(test_dataset, MODEL_PATH, labeled=False)\n",
    "result = koelectra_trainer.predict(test_dataset)\n",
    "preds = np.vectorize(id2label.get)(np.argmax(result.predictions, axis=1))"
   ]
  },
  {
   "cell_type": "markdown",
   "metadata": {
    "id": "oLf2uGbj84HR"
   },
   "source": [
    "## Submission"
   ]
  },
  {
   "cell_type": "code",
   "execution_count": null,
   "metadata": {
    "executionInfo": {
     "elapsed": 3,
     "status": "aborted",
     "timestamp": 1658542184440,
     "user": {
      "displayName": "Myst",
      "userId": "17405133242292037053"
     },
     "user_tz": -540
    },
    "id": "p2XIbH1KRTHl"
   },
   "outputs": [],
   "source": [
    "submission.target = preds\n",
    "submission.head()"
   ]
  },
  {
   "cell_type": "code",
   "execution_count": null,
   "metadata": {
    "colab": {
     "base_uri": "https://localhost:8080/",
     "height": 166
    },
    "executionInfo": {
     "elapsed": 8,
     "status": "error",
     "timestamp": 1658542185753,
     "user": {
      "displayName": "Myst",
      "userId": "17405133242292037053"
     },
     "user_tz": -540
    },
    "id": "mG6WfC4UATAb",
    "outputId": "30ef354a-2946-49bc-b294-5e3e3f729ced"
   },
   "outputs": [],
   "source": [
    "submission.to_csv('./data/samples/submission.csv', index=False)"
   ]
  }
 ],
 "metadata": {
  "kernelspec": {
   "display_name": "Python 3.8.13 64-bit ('mldl')",
   "language": "python",
   "name": "python3"
  },
  "language_info": {
   "codemirror_mode": {
    "name": "ipython",
    "version": 3
   },
   "file_extension": ".py",
   "mimetype": "text/x-python",
   "name": "python",
   "nbconvert_exporter": "python",
   "pygments_lexer": "ipython3",
   "version": "3.8.13"
  },
  "orig_nbformat": 4,
  "vscode": {
   "interpreter": {
    "hash": "86ae205601b6d906014fa7892090616f7e1469eb0aa86f06d2d1803a695f1eb6"
   }
  }
 },
 "nbformat": 4,
 "nbformat_minor": 2
}
